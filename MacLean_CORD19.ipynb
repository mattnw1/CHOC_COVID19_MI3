{
 "cells": [
  {
   "cell_type": "code",
   "execution_count": 2,
   "metadata": {},
   "outputs": [],
   "source": [
    "import pandas as pd\n",
    "import numpy as ny\n",
    "import json\n",
    "import nltk\n",
    "import re\n",
    "from collections import Counter\n",
    "import matplotlib.pyplot as plt\n",
    "#needed"
   ]
  },
  {
   "cell_type": "markdown",
   "metadata": {},
   "source": [
    "#Code to read in body text but has not been used yet\n",
    "class Reader:\n",
    "    def OpenFile(index, path):\n",
    "        with open(path) as jsonF:\n",
    "            content = json.load(jsonF)\n",
    "            index.body_text = []\n",
    "            for entry in content['body_text']:\n",
    "                index.body_text.append(entry['text'])\n",
    "            index.body_text = '\\n'.join(index.body_text)\n",
    "row = Reader(all_json[0])\n",
    "print(row)"
   ]
  },
  {
   "cell_type": "code",
   "execution_count": 38,
   "metadata": {},
   "outputs": [],
   "source": [
    "#Functions\n",
    "#splits words for abstract\n",
    "def getWords(index):\n",
    "    Abstract = smallab.iloc[index]['abstract']\n",
    "    #Abstract_words = re.split('(.*?\\s.*?\\s.*?\\s.*?)\\s', Abstract)\n",
    "    Abstract_words = re.split('\\\\W+', Abstract)\n",
    "    Abstract_words = list(map(lambda x: x.lower(), Abstract_words))\n",
    "    return Abstract_words\n",
    "#splits words for journals sources .... pretty useless\n",
    "def getWordsJ(index):\n",
    "    J_list = journals.iloc[index]['journal']\n",
    "    J_words = re.split('(.*?\\s.*?\\s.*?\\s.*?)\\s', J_list)\n",
    "    J_words = list(map(lambda x: x.lower(), J_words))\n",
    "    return J_words\n",
    "#splits words for titles\n",
    "def getWordsT(index):\n",
    "    Ttles = smallt.iloc[index]['title']\n",
    "    #titlew = re.split('(.*?\\s.*?)\\s', Ttles)\n",
    "    titlew = re.split('\\\\W+', Ttles)\n",
    "    titlew = list(map(lambda x: x.lower(), titlew))\n",
    "    return titlew\n",
    "#removes words less than 4 characters\n",
    "def remove(List):\n",
    "    newlist=[]\n",
    "    for word in range(len(List)):\n",
    "        if len(List[word]) >= 4:\n",
    "            newlist.append(List[word])\n",
    "    return newlist\n",
    "#removes words less than 4 characters\n",
    "def removeJ(List):\n",
    "    newlist=[]\n",
    "    for word in range(len(List)):\n",
    "        newlist.append(List[word])\n",
    "    return newlist\n",
    "# Now I am going to run through and do a check for each Dictionary\n",
    "def checkDict(List,Words):\n",
    "    matches = []\n",
    "    for i in Words:\n",
    "        count = 0 \n",
    "        for j in set(i):\n",
    "            for k in List:\n",
    "                if j == k:\n",
    "                    count = count + 1\n",
    "        matches.append(count)\n",
    "    return matches\n",
    "def checkMatchedWords(List,Words):\n",
    "    wordsperab =[]\n",
    "    for i in Words:\n",
    "        matchedwords =[]\n",
    "        for j in set(i):\n",
    "            for k in List:\n",
    "                if j == k:\n",
    "                    matchedwords.append(j)\n",
    "        wordsperab.append(matchedwords)\n",
    "    return wordsperab\n",
    "#creates the similarity score\n",
    "def insertTask(task,List):\n",
    "    percentsim = []\n",
    "    for i in task:\n",
    "        temp = round((i/(len(List)))*100,1)\n",
    "        percentsim.append(temp)\n",
    "    return percentsim"
   ]
  },
  {
   "cell_type": "code",
   "execution_count": 63,
   "metadata": {},
   "outputs": [],
   "source": [
    "dataF = pd.read_csv(\"metadata.csv\") \n",
    "#loading in the file with pandas instead because spark was having a problem withe column names\n",
    "#needed\n",
    "dataF.drop_duplicates(subset =\"title\", keep = False, inplace = True)\n"
   ]
  },
  {
   "cell_type": "markdown",
   "metadata": {},
   "source": [
    "#pretty useless but just going to keep it just in case\n",
    "journals = dataF[['journal']]\n",
    "#def getWords(index):\n",
    "    journal_names = journals.iloc[index]['journal']\n",
    "    journal_words = re.split('\\\\W+', journal_names)\n",
    "    journal_words = list(map(lambda x: x.lower(), journal_words))\n",
    "    return journal_words\n",
    "\n",
    "jour = []\n",
    "for line in range(len(journals)):\n",
    "    c = getWords(line)\n",
    "    jour.append(c)\n",
    "jour\n",
    "\n",
    "dataF['journal'].Counter().most_common()\n",
    "frequent = Counter(dataF[['journal']])\n",
    "frequent.most_common()\n",
    "df = dataF.dropna(subset=['journal'])\n",
    "df['journal'].value_counts().max()"
   ]
  },
  {
   "cell_type": "markdown",
   "metadata": {},
   "source": [
    "#not done coding\n",
    "i =0 \n",
    "columnname = 'pmc_json_files'\n",
    "for i in pmc_jsonF.range(i,len(pmc_jsonF)):\n",
    "    with open(pmc_jsonF['pmc_json_files'].values[i])"
   ]
  },
  {
   "cell_type": "code",
   "execution_count": 7,
   "metadata": {},
   "outputs": [],
   "source": [
    "ab = dataF[['abstract']]\n",
    "ab = ab.dropna()\n",
    "ab.reset_index(drop=True,inplace=True)\n",
    "titles = dataF[['title']]\n",
    "titles = titles.dropna()\n",
    "titles.reset_index(drop=True,inplace=True)\n",
    "#journals = dataF[['journal']]\n",
    "#journals = journals.dropna()\n",
    "#journals.reset_index(drop=True,inplace=True)"
   ]
  },
  {
   "cell_type": "code",
   "execution_count": 8,
   "metadata": {},
   "outputs": [],
   "source": [
    "#getting cleaned abstract list\n",
    "smallab = ab.iloc[0:104333]\n",
    "cleanedablist = []\n",
    "for line in range(len(smallab)):\n",
    "    a = getWords(line)\n",
    "    #acleaned = remove(a)\n",
    "    #cleanedablist.append(acleaned)\n",
    "    cleanedablist.append(a)"
   ]
  },
  {
   "cell_type": "markdown",
   "metadata": {},
   "source": [
    "#getting cleaned title list\n",
    "smallt = titles.iloc[0:158897]\n",
    "cleanedtlist = []\n",
    "for line in range(len(smallt)):\n",
    "    t = getWordsT(line)\n",
    "    tcleaned = remove(t)\n",
    "    cleanedtlist.append(tcleaned)"
   ]
  },
  {
   "cell_type": "markdown",
   "metadata": {},
   "source": [
    "#getting cleaned journal list\n",
    "smallj = journals.iloc[0:150007]\n",
    "cleanedjlist = []\n",
    "for line in range(len(smallj)):\n",
    "    j = getWordsJ(line)\n",
    "    jcleaned = remove(j)\n",
    "    cleanedjlist.append(jcleaned)"
   ]
  },
  {
   "cell_type": "code",
   "execution_count": 8,
   "metadata": {},
   "outputs": [],
   "source": [
    "#count for abstracts\n",
    "Count = Counter()\n",
    "for i in cleanedablist:\n",
    "    for j in set(i):\n",
    "        Count[j] += 1\n",
    "#Count.most_common()"
   ]
  },
  {
   "cell_type": "code",
   "execution_count": 46,
   "metadata": {
    "tags": []
   },
   "outputs": [
    {
     "output_type": "stream",
     "name": "stdout",
     "text": "179\n"
    }
   ],
   "source": [
    "#Dictionary List\n",
    "#Task 1: Transmissions, Incubation, and Environmental Stability\n",
    "trans_Incub_enviro = ['transmissible','transmission','immune','infectious','symptomatic','airborne','spread','aerosol','aerosols','asymptomatic','blood','surface','animal','incubation','stability','climate','enviromental','surfaces','contact','sars','cov','covid','outbreak','coronavirus','transmitted','aerosolization']\n",
    "#Task 2: COVID-19 Risk Factors\n",
    "risk_factors = ['cancer','pregnant','pregnancy','death','critical','infections','risks','aneurysms','respiratory','mortality','severe','deaths','asthma','diabetes','severity','pneumonia','chronic','diseases','disease','infection','age','smoking','deaths','sars','cov','covid','coronavirus','obese','obesity','bmi']\n",
    "#Task 3: Vaccines and Therapeutics\n",
    "vacc = ['vaccination','antibody','vaccine','drug','hydroxychloroquine','drugs','vaccines','medicine','treated','therapeutic','therapy','therapeutics','sars','cov','covid','coronavirus']\n",
    "#Task 4: Virus genetics, orgin, and evolution\n",
    "gene_ori_evo = ['genome','china','outbreak','genomes','mutations','source','origin','genomic','genes','strain','evolution','genetic','wuhan','protein','proteins','rna','dna','mrnas','sequence','sequences','subgenomic','rnas','mrna','mutation','sars','cov','covid','coronavirus']\n",
    "#Task 5: Medical Care\n",
    "med_care = ['treatment','antibody','surgical','prevention','antibodies','surgery','care','telemedicine','medical','insurance','resources','nursing','ventilation','sars','cov','covid','coronavirus']\n",
    "#Task 6: Ethical and social science considerations\n",
    "Eth_soc = ['ethics','ethical','social','considerations','underprivileged','racial','race','minority','unethical','policy','legal','societal','bioethics','science','disparities','sars','cov','covid','coronavirus']\n",
    "#Task 7: Non-pharmaceutical interventions\n",
    "Non_pharma = ['therapies','isolation','protection','lockdown','distancing','quarantine','prevention','nonpharmaceutical','covering','closure','mask','masks','home','isolate','cover','sars','cov','covid','coronavirus']\n",
    "#Task 8: Diagnostics and Surveillance\n",
    "diagno_surve = ['analysis','model','trial','surveillance','diagnostic','diagnosis','screening','monitoring','identification','imaging','testing','prognosis','estimation','predicting','modelling','detection','research','pcr','models','prediction','sars','cov','covid','coronavirus']\n",
    "\n",
    "totalwordlength = len(trans_Incub_enviro)+len(risk_factors)+len(vacc)+len(gene_ori_evo)+len(med_care)+len(Eth_soc)+len(Non_pharma)+len(diagno_surve)\n",
    "print(totalwordlength)"
   ]
  },
  {
   "cell_type": "code",
   "execution_count": null,
   "metadata": {},
   "outputs": [],
   "source": [
    "wordcheck = ['']"
   ]
  },
  {
   "cell_type": "markdown",
   "metadata": {},
   "source": [
    "#count for titles\n",
    "Countt = Counter()\n",
    "for i in cleanedtlist:\n",
    "    for j in set(i):\n",
    "        Countt[j] += 1\n",
    "Countt.most_common()"
   ]
  },
  {
   "cell_type": "markdown",
   "metadata": {},
   "source": [
    "mostcommont = pd.DataFrame(Countt.most_common(30), columns=['words', 'count'])\n",
    "fig, ax = plt.subplots(figsize=(8, 8))\n",
    "mostcommont.sort_values(by='count').plot.barh(x='words',y='count', ax=ax, color=\"purple\")\n",
    "plt.show()"
   ]
  },
  {
   "cell_type": "markdown",
   "metadata": {},
   "source": [
    "mostcommon = pd.DataFrame(Count.most_common(30), columns=['words', 'count'])\n",
    "fig, ax = plt.subplots(figsize=(8, 8))\n",
    "mostcommon.sort_values(by='count').plot.barh(x='words',y='count', ax=ax, color=\"purple\")\n",
    "plt.show()"
   ]
  },
  {
   "cell_type": "markdown",
   "metadata": {
    "scrolled": true
   },
   "source": [
    "mostcommonj = pd.DataFrame(Countj.most_common(30), columns=['words', 'count'])\n",
    "fig, ax = plt.subplots(figsize=(8, 8))\n",
    "mostcommonj.sort_values(by='count').plot.barh(x='words',y='count', ax=ax, color=\"purple\")\n",
    "plt.show()"
   ]
  },
  {
   "cell_type": "code",
   "execution_count": 65,
   "metadata": {},
   "outputs": [],
   "source": [
    "#Creating a new DataFrame with the lists of words and Id of paper\n",
    "Ab_ids = dataF[['cord_uid','abstract']]\n",
    "Ab_ids = Ab_ids.dropna()\n",
    "Ab_ids.reset_index(drop=True,inplace=True)\n",
    "Ab_ids['abstract words'] = cleanedablist\n"
   ]
  },
  {
   "cell_type": "code",
   "execution_count": 56,
   "metadata": {},
   "outputs": [],
   "source": [
    "#WARNING----- THIS TAKES A LONG TIME TO RUN -------\n",
    "#calliing all functions to place articles into bins\n",
    "task1 = checkDict(trans_Incub_enviro,cleanedablist)\n",
    "pertask1=insertTask(task1,trans_Incub_enviro)\n",
    "\n",
    "task2 = checkDict(risk_factors,cleanedablist)\n",
    "pertask2=insertTask(task2,risk_factors)\n",
    "\n",
    "task3 = checkDict(vacc,cleanedablist)\n",
    "pertask3=insertTask(task3,vacc)\n",
    "\n",
    "task4 = checkDict(gene_ori_evo,cleanedablist)\n",
    "pertask4=insertTask(task4,gene_ori_evo)\n",
    "\n",
    "task5 = checkDict(med_care,cleanedablist)\n",
    "pertask5=insertTask(task5,med_care)\n",
    "\n",
    "task6 = checkDict(Eth_soc,cleanedablist)\n",
    "pertask6=insertTask(task6,Eth_soc)\n",
    "\n",
    "task7 = checkDict(Non_pharma,cleanedablist)\n",
    "pertask7=insertTask(task7,Non_pharma)\n",
    "\n",
    "task8 = checkDict(diagno_surve,cleanedablist)\n",
    "pertask8=insertTask(task8,diagno_surve)\n",
    "\n"
   ]
  },
  {
   "cell_type": "code",
   "execution_count": 47,
   "metadata": {},
   "outputs": [],
   "source": [
    "task1w = checkMatchedWords(trans_Incub_enviro,cleanedablist)\n",
    "\n",
    "task2w = checkMatchedWords(risk_factors,cleanedablist)\n",
    "\n",
    "task3w = checkMatchedWords(vacc,cleanedablist)\n",
    "\n",
    "task4w = checkMatchedWords(gene_ori_evo,cleanedablist)\n",
    "\n",
    "task5w = checkMatchedWords(med_care,cleanedablist)\n",
    "\n",
    "task6w = checkMatchedWords(Eth_soc,cleanedablist)\n",
    "\n",
    "task7w = checkMatchedWords(Non_pharma,cleanedablist)\n",
    "\n",
    "task8w = checkMatchedWords(diagno_surve,cleanedablist)\n",
    "\n"
   ]
  },
  {
   "cell_type": "code",
   "execution_count": 53,
   "metadata": {},
   "outputs": [],
   "source": [
    "#creates new columns in the dataframe \n",
    "Ab_ids['Transmissions, Incubation, and Environmental Stability Words'] = task1w\n",
    "Ab_ids['Risk Factors Words'] = task2w\n",
    "Ab_ids['Vaccines and Therapeutics Words'] = task3w\n",
    "Ab_ids['Virus genetics, orgin, and evolution Words'] = task4w\n",
    "Ab_ids['Medical Care Words'] = task5w\n",
    "Ab_ids['Ethical and social science considerations Words'] = task6w\n",
    "Ab_ids['Non-pharmaceutical interventions Words'] = task7w\n",
    "Ab_ids['Diagnostics and Surveillance Words'] = task8w\n"
   ]
  },
  {
   "cell_type": "code",
   "execution_count": 62,
   "metadata": {},
   "outputs": [
    {
     "output_type": "execute_result",
     "data": {
      "text/plain": "[('coronavirus', 19385),\n ('covid', 19317),\n ('analysis', 18338),\n ('sars', 13911),\n ('cov', 11893),\n ('model', 11272),\n ('research', 9315),\n ('diagnosis', 7468),\n ('detection', 7090),\n ('pcr', 6735),\n ('models', 5770),\n ('diagnostic', 5247),\n ('testing', 4989),\n ('identification', 3732),\n ('surveillance', 3518),\n ('trial', 3333),\n ('screening', 3227),\n ('imaging', 3163),\n ('monitoring', 3089),\n ('prediction', 1501),\n ('prognosis', 1375),\n ('predicting', 950),\n ('estimation', 710),\n ('modelling', 612)]"
     },
     "metadata": {},
     "execution_count": 62
    }
   ],
   "source": [
    "#count for journals\n",
    "Countj = Counter()\n",
    "for i in task8w:\n",
    "    for j in set(i):\n",
    "        Countj[j] += 1\n",
    "Countj.most_common()"
   ]
  },
  {
   "cell_type": "code",
   "execution_count": 51,
   "metadata": {},
   "outputs": [],
   "source": [
    "#creates new columns in the dataframe and writes the dataframe into an excel file\n",
    "Ab_ids['Transmissions, Incubation, and Environmental Stability'] = pertask1\n",
    "Ab_ids['Risk Factors'] = pertask2\n",
    "Ab_ids['Vaccines and Therapeutics'] = pertask3\n",
    "Ab_ids['Virus genetics, orgin, and evolution'] = pertask4\n",
    "Ab_ids['Medical Care'] = pertask5\n",
    "Ab_ids['Ethical and social science considerations'] = pertask6\n",
    "Ab_ids['Non-pharmaceutical interventions'] = pertask7\n",
    "Ab_ids['Diagnostics and Surveillance'] = pertask8\n",
    "Ab_ids['Addition'] = Ab_ids['Diagnostics and Surveillance']+Ab_ids['Non-pharmaceutical interventions']+Ab_ids['Ethical and social science considerations']+Ab_ids['Medical Care']+Ab_ids['Virus genetics, orgin, and evolution']+Ab_ids['Vaccines and Therapeutics']+Ab_ids['Risk Factors']+Ab_ids['Transmissions, Incubation, and Environmental Stability']\n",
    "#Ab_ids.to_excel('output.xlsx', index=False)"
   ]
  },
  {
   "cell_type": "code",
   "execution_count": 52,
   "metadata": {},
   "outputs": [],
   "source": [
    "Ab_ids['Transmissions, Incubation, and Environmental Stability']= (Ab_ids['Transmissions, Incubation, and Environmental Stability']/Ab_ids['Addition'])*100\n",
    "Ab_ids['Risk Factors'] = (Ab_ids['Risk Factors']/Ab_ids['Addition'])*100\n",
    "Ab_ids['Vaccines and Therapeutics'] = (Ab_ids['Vaccines and Therapeutics']/Ab_ids['Addition'])*100\n",
    "Ab_ids['Virus genetics, orgin, and evolution'] = (Ab_ids['Virus genetics, orgin, and evolution']/Ab_ids['Addition'])*100\n",
    "Ab_ids['Medical Care'] = (Ab_ids['Medical Care']/Ab_ids['Addition'])*100\n",
    "Ab_ids['Ethical and social science considerations'] = (Ab_ids['Ethical and social science considerations']/Ab_ids['Addition'])*100\n",
    "Ab_ids['Non-pharmaceutical interventions'] = (Ab_ids['Non-pharmaceutical interventions']/Ab_ids['Addition'])*100\n",
    "Ab_ids['Diagnostics and Surveillance'] = (Ab_ids['Diagnostics and Surveillance']/Ab_ids['Addition'])*100"
   ]
  },
  {
   "cell_type": "markdown",
   "metadata": {},
   "source": [
    "Ab_ids['Addition'] = Ab_ids['Diagnostics and Surveillance']+Ab_ids['Non-pharmaceutical interventions']+Ab_ids['Ethical and social science considerations']+Ab_ids['Medical Care']+Ab_ids['Virus genetics, orgin, and evolution']+Ab_ids['Vaccines and Therapeutics']+Ab_ids['Risk Factors']+Ab_ids['Transmissions, Incubation, and Environmental Stability']"
   ]
  },
  {
   "cell_type": "code",
   "execution_count": 54,
   "metadata": {
    "scrolled": false
   },
   "outputs": [
    {
     "output_type": "execute_result",
     "data": {
      "text/plain": "        cord_uid                                           abstract  \\\n0       ug7v899j  OBJECTIVE: This retrospective chart review des...   \n1       02tnwd4m  Inflammatory diseases of the respiratory tract...   \n2       ejv2xln0  Surfactant protein-D (SP-D) participates in th...   \n3       2b73a28n  Endothelin-1 (ET-1) is a 21 amino acid peptide...   \n4       9785vg6d  Respiratory syncytial virus (RSV) and pneumoni...   \n...          ...                                                ...   \n104328  ntropr17  The seven NIH‐sponsored Regional Primate Resea...   \n104329  mixxjvte  We are inviting submissions of articles, persp...   \n104330  t9bt70f2  The recent outbreak of pneumonia in Wuhan, Chi...   \n104331  nhpjvgt4  Coronavirus disease 2019 (COVID‐19), is respon...   \n104332  hydy874v  Structural biology is making significant contr...   \n\n                                           abstract words  \\\n0       [objective, this, retrospective, chart, review...   \n1       [inflammatory, diseases, of, the, respiratory,...   \n2       [surfactant, protein, d, sp, d, participates, ...   \n3       [endothelin, 1, et, 1, is, a, 21, amino, acid,...   \n4       [respiratory, syncytial, virus, rsv, and, pneu...   \n...                                                   ...   \n104328  [the, seven, nih, sponsored, regional, primate...   \n104329  [we, are, inviting, submissions, of, articles,...   \n104330  [the, recent, outbreak, of, pneumonia, in, wuh...   \n104331  [coronavirus, disease, 2019, covid, 19, is, re...   \n104332  [structural, biology, is, making, significant,...   \n\n       Transmissions, Incubation, and Environmental Stability Words  \\\n0                                                      []             \n1                                                      []             \n2                                       [immune, surface]             \n3                                                      []             \n4                                                      []             \n...                                                   ...             \n104328                                                 []             \n104329                                                 []             \n104330     [sars, infectious, cov, outbreak, coronavirus]             \n104331                       [immune, covid, coronavirus]             \n104332                                                 []             \n\n                                       Risk Factors Words  \\\n0       [age, respiratory, mortality, infections, pneu...   \n1                        [disease, diseases, respiratory]   \n2                                 [diseases, respiratory]   \n3                            [chronic, diseases, disease]   \n4         [respiratory, infections, pneumonia, infection]   \n...                                                   ...   \n104328                                [disease, diseases]   \n104329                                                 []   \n104330  [sars, severe, cov, risks, coronavirus, respir...   \n104331  [disease, chronic, risks, covid, coronavirus, ...   \n104332                                [diseases, disease]   \n\n          Vaccines and Therapeutics Words  \\\n0                                      []   \n1                                      []   \n2                                      []   \n3                                      []   \n4                                      []   \n...                                   ...   \n104328                         [medicine]   \n104329                             [drug]   \n104330           [sars, cov, coronavirus]   \n104331  [therapeutic, covid, coronavirus]   \n104332                                 []   \n\n               Virus genetics, orgin, and evolution Words  \\\n0                                                      []   \n1                                              [proteins]   \n2                                               [protein]   \n3                                                      []   \n4                                               [genomic]   \n...                                                   ...   \n104328                                                 []   \n104329                                                 []   \n104330  [sars, china, cov, outbreak, wuhan, coronaviru...   \n104331                               [covid, coronavirus]   \n104332                                                 []   \n\n                          Medical Care Words  \\\n0                                         []   \n1                                         []   \n2                                         []   \n3                                         []   \n4                                         []   \n...                                      ...   \n104328        [surgical, surgery, treatment]   \n104329                                    []   \n104330  [sars, cov, coronavirus, prevention]   \n104331       [covid, coronavirus, treatment]   \n104332                                    []   \n\n       Ethical and social science considerations Words  \\\n0                                                   []   \n1                                                   []   \n2                                                   []   \n3                                                   []   \n4                                                   []   \n...                                                ...   \n104328                                              []   \n104329                                              []   \n104330                        [sars, cov, coronavirus]   \n104331                            [covid, coronavirus]   \n104332                                              []   \n\n       Non-pharmaceutical interventions Words  \\\n0                                          []   \n1                                          []   \n2                                          []   \n3                                          []   \n4                                          []   \n...                                       ...   \n104328                                     []   \n104329                                     []   \n104330   [sars, cov, coronavirus, prevention]   \n104331        [therapies, covid, coronavirus]   \n104332                                     []   \n\n                       Diagnostics and Surveillance Words  \\\n0                                                      []   \n1                                                [models]   \n2                                                      []   \n3                                                      []   \n4                                                   [pcr]   \n...                                                   ...   \n104328                                  [research, model]   \n104329                                         [research]   \n104330  [sars, prediction, predicting, cov, coronaviru...   \n104331                               [covid, coronavirus]   \n104332                                                 []   \n\n        Transmissions, Incubation, and Environmental Stability  Risk Factors  \\\n0                                                0.000000         100.000000   \n1                                                0.000000          58.730159   \n2                                               41.176471          39.572193   \n3                                                0.000000         100.000000   \n4                                                0.000000          65.486726   \n...                                                   ...                ...   \n104328                                           0.000000          18.734177   \n104329                                           0.000000           0.000000   \n104330                                          10.792580          14.558741   \n104331                                           9.647651          24.832215   \n104332                                           0.000000         100.000000   \n\n        Vaccines and Therapeutics  Virus genetics, orgin, and evolution  \\\n0                        0.000000                              0.000000   \n1                        0.000000                             19.047619   \n2                        0.000000                             19.251337   \n3                        0.000000                              0.000000   \n4                        0.000000                             15.929204   \n...                           ...                                   ...   \n104328                  15.696203                              0.000000   \n104329                  59.615385                              0.000000   \n104330                  10.567735                             16.076447   \n104331                  15.771812                              5.956376   \n104332                   0.000000                              0.000000   \n\n        Medical Care  Ethical and social science considerations  \\\n0           0.000000                                   0.000000   \n1           0.000000                                   0.000000   \n2           0.000000                                   0.000000   \n3           0.000000                                   0.000000   \n4           0.000000                                   0.000000   \n...              ...                                        ...   \n104328     44.556962                                   0.000000   \n104329      0.000000                                   0.000000   \n104330     13.209668                                   8.881394   \n104331     14.765101                                   8.808725   \n104332      0.000000                                   0.000000   \n\n        Non-pharmaceutical interventions  Diagnostics and Surveillance  \\\n0                               0.000000                      0.000000   \n1                               0.000000                     22.222222   \n2                               0.000000                      0.000000   \n3                               0.000000                      0.000000   \n4                               0.000000                     18.584071   \n...                                  ...                           ...   \n104328                          0.000000                     21.012658   \n104329                          0.000000                     40.384615   \n104330                         11.860596                     14.052839   \n104331                         13.255034                      6.963087   \n104332                          0.000000                      0.000000   \n\n        Addition  \n0           22.2  \n1           18.9  \n2           18.7  \n3           11.1  \n4           22.6  \n...          ...  \n104328      39.5  \n104329      10.4  \n104330     177.9  \n104331     119.2  \n104332       7.4  \n\n[104333 rows x 20 columns]",
      "text/html": "<div>\n<style scoped>\n    .dataframe tbody tr th:only-of-type {\n        vertical-align: middle;\n    }\n\n    .dataframe tbody tr th {\n        vertical-align: top;\n    }\n\n    .dataframe thead th {\n        text-align: right;\n    }\n</style>\n<table border=\"1\" class=\"dataframe\">\n  <thead>\n    <tr style=\"text-align: right;\">\n      <th></th>\n      <th>cord_uid</th>\n      <th>abstract</th>\n      <th>abstract words</th>\n      <th>Transmissions, Incubation, and Environmental Stability Words</th>\n      <th>Risk Factors Words</th>\n      <th>Vaccines and Therapeutics Words</th>\n      <th>Virus genetics, orgin, and evolution Words</th>\n      <th>Medical Care Words</th>\n      <th>Ethical and social science considerations Words</th>\n      <th>Non-pharmaceutical interventions Words</th>\n      <th>Diagnostics and Surveillance Words</th>\n      <th>Transmissions, Incubation, and Environmental Stability</th>\n      <th>Risk Factors</th>\n      <th>Vaccines and Therapeutics</th>\n      <th>Virus genetics, orgin, and evolution</th>\n      <th>Medical Care</th>\n      <th>Ethical and social science considerations</th>\n      <th>Non-pharmaceutical interventions</th>\n      <th>Diagnostics and Surveillance</th>\n      <th>Addition</th>\n    </tr>\n  </thead>\n  <tbody>\n    <tr>\n      <th>0</th>\n      <td>ug7v899j</td>\n      <td>OBJECTIVE: This retrospective chart review des...</td>\n      <td>[objective, this, retrospective, chart, review...</td>\n      <td>[]</td>\n      <td>[age, respiratory, mortality, infections, pneu...</td>\n      <td>[]</td>\n      <td>[]</td>\n      <td>[]</td>\n      <td>[]</td>\n      <td>[]</td>\n      <td>[]</td>\n      <td>0.000000</td>\n      <td>100.000000</td>\n      <td>0.000000</td>\n      <td>0.000000</td>\n      <td>0.000000</td>\n      <td>0.000000</td>\n      <td>0.000000</td>\n      <td>0.000000</td>\n      <td>22.2</td>\n    </tr>\n    <tr>\n      <th>1</th>\n      <td>02tnwd4m</td>\n      <td>Inflammatory diseases of the respiratory tract...</td>\n      <td>[inflammatory, diseases, of, the, respiratory,...</td>\n      <td>[]</td>\n      <td>[disease, diseases, respiratory]</td>\n      <td>[]</td>\n      <td>[proteins]</td>\n      <td>[]</td>\n      <td>[]</td>\n      <td>[]</td>\n      <td>[models]</td>\n      <td>0.000000</td>\n      <td>58.730159</td>\n      <td>0.000000</td>\n      <td>19.047619</td>\n      <td>0.000000</td>\n      <td>0.000000</td>\n      <td>0.000000</td>\n      <td>22.222222</td>\n      <td>18.9</td>\n    </tr>\n    <tr>\n      <th>2</th>\n      <td>ejv2xln0</td>\n      <td>Surfactant protein-D (SP-D) participates in th...</td>\n      <td>[surfactant, protein, d, sp, d, participates, ...</td>\n      <td>[immune, surface]</td>\n      <td>[diseases, respiratory]</td>\n      <td>[]</td>\n      <td>[protein]</td>\n      <td>[]</td>\n      <td>[]</td>\n      <td>[]</td>\n      <td>[]</td>\n      <td>41.176471</td>\n      <td>39.572193</td>\n      <td>0.000000</td>\n      <td>19.251337</td>\n      <td>0.000000</td>\n      <td>0.000000</td>\n      <td>0.000000</td>\n      <td>0.000000</td>\n      <td>18.7</td>\n    </tr>\n    <tr>\n      <th>3</th>\n      <td>2b73a28n</td>\n      <td>Endothelin-1 (ET-1) is a 21 amino acid peptide...</td>\n      <td>[endothelin, 1, et, 1, is, a, 21, amino, acid,...</td>\n      <td>[]</td>\n      <td>[chronic, diseases, disease]</td>\n      <td>[]</td>\n      <td>[]</td>\n      <td>[]</td>\n      <td>[]</td>\n      <td>[]</td>\n      <td>[]</td>\n      <td>0.000000</td>\n      <td>100.000000</td>\n      <td>0.000000</td>\n      <td>0.000000</td>\n      <td>0.000000</td>\n      <td>0.000000</td>\n      <td>0.000000</td>\n      <td>0.000000</td>\n      <td>11.1</td>\n    </tr>\n    <tr>\n      <th>4</th>\n      <td>9785vg6d</td>\n      <td>Respiratory syncytial virus (RSV) and pneumoni...</td>\n      <td>[respiratory, syncytial, virus, rsv, and, pneu...</td>\n      <td>[]</td>\n      <td>[respiratory, infections, pneumonia, infection]</td>\n      <td>[]</td>\n      <td>[genomic]</td>\n      <td>[]</td>\n      <td>[]</td>\n      <td>[]</td>\n      <td>[pcr]</td>\n      <td>0.000000</td>\n      <td>65.486726</td>\n      <td>0.000000</td>\n      <td>15.929204</td>\n      <td>0.000000</td>\n      <td>0.000000</td>\n      <td>0.000000</td>\n      <td>18.584071</td>\n      <td>22.6</td>\n    </tr>\n    <tr>\n      <th>...</th>\n      <td>...</td>\n      <td>...</td>\n      <td>...</td>\n      <td>...</td>\n      <td>...</td>\n      <td>...</td>\n      <td>...</td>\n      <td>...</td>\n      <td>...</td>\n      <td>...</td>\n      <td>...</td>\n      <td>...</td>\n      <td>...</td>\n      <td>...</td>\n      <td>...</td>\n      <td>...</td>\n      <td>...</td>\n      <td>...</td>\n      <td>...</td>\n      <td>...</td>\n    </tr>\n    <tr>\n      <th>104328</th>\n      <td>ntropr17</td>\n      <td>The seven NIH‐sponsored Regional Primate Resea...</td>\n      <td>[the, seven, nih, sponsored, regional, primate...</td>\n      <td>[]</td>\n      <td>[disease, diseases]</td>\n      <td>[medicine]</td>\n      <td>[]</td>\n      <td>[surgical, surgery, treatment]</td>\n      <td>[]</td>\n      <td>[]</td>\n      <td>[research, model]</td>\n      <td>0.000000</td>\n      <td>18.734177</td>\n      <td>15.696203</td>\n      <td>0.000000</td>\n      <td>44.556962</td>\n      <td>0.000000</td>\n      <td>0.000000</td>\n      <td>21.012658</td>\n      <td>39.5</td>\n    </tr>\n    <tr>\n      <th>104329</th>\n      <td>mixxjvte</td>\n      <td>We are inviting submissions of articles, persp...</td>\n      <td>[we, are, inviting, submissions, of, articles,...</td>\n      <td>[]</td>\n      <td>[]</td>\n      <td>[drug]</td>\n      <td>[]</td>\n      <td>[]</td>\n      <td>[]</td>\n      <td>[]</td>\n      <td>[research]</td>\n      <td>0.000000</td>\n      <td>0.000000</td>\n      <td>59.615385</td>\n      <td>0.000000</td>\n      <td>0.000000</td>\n      <td>0.000000</td>\n      <td>0.000000</td>\n      <td>40.384615</td>\n      <td>10.4</td>\n    </tr>\n    <tr>\n      <th>104330</th>\n      <td>t9bt70f2</td>\n      <td>The recent outbreak of pneumonia in Wuhan, Chi...</td>\n      <td>[the, recent, outbreak, of, pneumonia, in, wuh...</td>\n      <td>[sars, infectious, cov, outbreak, coronavirus]</td>\n      <td>[sars, severe, cov, risks, coronavirus, respir...</td>\n      <td>[sars, cov, coronavirus]</td>\n      <td>[sars, china, cov, outbreak, wuhan, coronaviru...</td>\n      <td>[sars, cov, coronavirus, prevention]</td>\n      <td>[sars, cov, coronavirus]</td>\n      <td>[sars, cov, coronavirus, prevention]</td>\n      <td>[sars, prediction, predicting, cov, coronaviru...</td>\n      <td>10.792580</td>\n      <td>14.558741</td>\n      <td>10.567735</td>\n      <td>16.076447</td>\n      <td>13.209668</td>\n      <td>8.881394</td>\n      <td>11.860596</td>\n      <td>14.052839</td>\n      <td>177.9</td>\n    </tr>\n    <tr>\n      <th>104331</th>\n      <td>nhpjvgt4</td>\n      <td>Coronavirus disease 2019 (COVID‐19), is respon...</td>\n      <td>[coronavirus, disease, 2019, covid, 19, is, re...</td>\n      <td>[immune, covid, coronavirus]</td>\n      <td>[disease, chronic, risks, covid, coronavirus, ...</td>\n      <td>[therapeutic, covid, coronavirus]</td>\n      <td>[covid, coronavirus]</td>\n      <td>[covid, coronavirus, treatment]</td>\n      <td>[covid, coronavirus]</td>\n      <td>[therapies, covid, coronavirus]</td>\n      <td>[covid, coronavirus]</td>\n      <td>9.647651</td>\n      <td>24.832215</td>\n      <td>15.771812</td>\n      <td>5.956376</td>\n      <td>14.765101</td>\n      <td>8.808725</td>\n      <td>13.255034</td>\n      <td>6.963087</td>\n      <td>119.2</td>\n    </tr>\n    <tr>\n      <th>104332</th>\n      <td>hydy874v</td>\n      <td>Structural biology is making significant contr...</td>\n      <td>[structural, biology, is, making, significant,...</td>\n      <td>[]</td>\n      <td>[diseases, disease]</td>\n      <td>[]</td>\n      <td>[]</td>\n      <td>[]</td>\n      <td>[]</td>\n      <td>[]</td>\n      <td>[]</td>\n      <td>0.000000</td>\n      <td>100.000000</td>\n      <td>0.000000</td>\n      <td>0.000000</td>\n      <td>0.000000</td>\n      <td>0.000000</td>\n      <td>0.000000</td>\n      <td>0.000000</td>\n      <td>7.4</td>\n    </tr>\n  </tbody>\n</table>\n<p>104333 rows × 20 columns</p>\n</div>"
     },
     "metadata": {},
     "execution_count": 54
    }
   ],
   "source": [
    "Ab_ids"
   ]
  },
  {
   "cell_type": "code",
   "execution_count": 55,
   "metadata": {},
   "outputs": [],
   "source": [
    "Ab_ids.to_excel('output.xlsx', index=False)"
   ]
  },
  {
   "cell_type": "code",
   "execution_count": 19,
   "metadata": {},
   "outputs": [
    {
     "output_type": "execute_result",
     "data": {
      "text/plain": "[(0.0, 45071),\n (3.6, 21531),\n (7.1, 13616),\n (10.7, 8931),\n (14.3, 6774),\n (17.9, 3812),\n (21.4, 2142),\n (25.0, 1188),\n (28.6, 625),\n (32.1, 327),\n (35.7, 187),\n (39.3, 75),\n (42.9, 31),\n (46.4, 13),\n (50.0, 7),\n (53.6, 2),\n (75.0, 1)]"
     },
     "metadata": {},
     "execution_count": 19
    }
   ],
   "source": [
    "Counttask1 = Counter()\n",
    "for i in pertask4:\n",
    "    Counttask1[i] += 1\n",
    "Counttask1.most_common()"
   ]
  },
  {
   "cell_type": "code",
   "execution_count": 26,
   "metadata": {},
   "outputs": [
    {
     "output_type": "display_data",
     "data": {
      "text/plain": "<Figure size 576x576 with 1 Axes>",
      "image/svg+xml": "<?xml version=\"1.0\" encoding=\"utf-8\" standalone=\"no\"?>\r\n<!DOCTYPE svg PUBLIC \"-//W3C//DTD SVG 1.1//EN\"\r\n  \"http://www.w3.org/Graphics/SVG/1.1/DTD/svg11.dtd\">\r\n<!-- Created with matplotlib (https://matplotlib.org/) -->\r\n<svg height=\"507.341875pt\" version=\"1.1\" viewBox=\"0 0 522.490312 507.341875\" width=\"522.490312pt\" xmlns=\"http://www.w3.org/2000/svg\" xmlns:xlink=\"http://www.w3.org/1999/xlink\">\r\n <defs>\r\n  <style type=\"text/css\">\r\n*{stroke-linecap:butt;stroke-linejoin:round;}\r\n  </style>\r\n </defs>\r\n <g id=\"figure_1\">\r\n  <g id=\"patch_1\">\r\n   <path d=\"M 0 507.341875 \r\nL 522.490312 507.341875 \r\nL 522.490312 0 \r\nL 0 0 \r\nz\r\n\" style=\"fill:none;\"/>\r\n  </g>\r\n  <g id=\"axes_1\">\r\n   <g id=\"patch_2\">\r\n    <path d=\"M 40.603125 457.198125 \r\nL 487.003125 457.198125 \r\nL 487.003125 22.318125 \r\nL 40.603125 22.318125 \r\nz\r\n\" style=\"fill:#ffffff;\"/>\r\n   </g>\r\n   <g id=\"patch_3\">\r\n    <path clip-path=\"url(#pb1f69690a1)\" d=\"M 59.203125 457.198125 \r\nL 96.403125 457.198125 \r\nL 96.403125 43.026696 \r\nL 59.203125 43.026696 \r\nz\r\n\" style=\"fill:#0000ff;\"/>\r\n   </g>\r\n   <g id=\"patch_4\">\r\n    <path clip-path=\"url(#pb1f69690a1)\" d=\"M 133.603125 457.198125 \r\nL 170.803125 457.198125 \r\nL 170.803125 286.007268 \r\nL 133.603125 286.007268 \r\nz\r\n\" style=\"fill:#0000ff;\"/>\r\n   </g>\r\n   <g id=\"patch_5\">\r\n    <path clip-path=\"url(#pb1f69690a1)\" d=\"M 208.003125 457.198125 \r\nL 245.203125 457.198125 \r\nL 245.203125 385.408411 \r\nL 208.003125 385.408411 \r\nz\r\n\" style=\"fill:#0000ff;\"/>\r\n   </g>\r\n   <g id=\"patch_6\">\r\n    <path clip-path=\"url(#pb1f69690a1)\" d=\"M 282.403125 457.198125 \r\nL 319.603125 457.198125 \r\nL 319.603125 418.542125 \r\nL 282.403125 418.542125 \r\nz\r\n\" style=\"fill:#0000ff;\"/>\r\n   </g>\r\n   <g id=\"patch_7\">\r\n    <path clip-path=\"url(#pb1f69690a1)\" d=\"M 356.803125 457.198125 \r\nL 394.003125 457.198125 \r\nL 394.003125 446.153554 \r\nL 356.803125 446.153554 \r\nz\r\n\" style=\"fill:#0000ff;\"/>\r\n   </g>\r\n   <g id=\"patch_8\">\r\n    <path clip-path=\"url(#pb1f69690a1)\" d=\"M 431.203125 457.198125 \r\nL 468.403125 457.198125 \r\nL 468.403125 451.675839 \r\nL 431.203125 451.675839 \r\nz\r\n\" style=\"fill:#0000ff;\"/>\r\n   </g>\r\n   <g id=\"matplotlib.axis_1\">\r\n    <g id=\"xtick_1\">\r\n     <g id=\"line2d_1\">\r\n      <defs>\r\n       <path d=\"M 0 0 \r\nL 0 3.5 \r\n\" id=\"m1c3e96b72f\" style=\"stroke:#000000;stroke-width:0.8;\"/>\r\n      </defs>\r\n      <g>\r\n       <use style=\"stroke:#000000;stroke-width:0.8;\" x=\"77.803125\" xlink:href=\"#m1c3e96b72f\" y=\"457.198125\"/>\r\n      </g>\r\n     </g>\r\n     <g id=\"text_1\">\r\n      <!-- 39.3 -->\r\n      <defs>\r\n       <path d=\"M 40.578125 39.3125 \r\nQ 47.65625 37.796875 51.625 33 \r\nQ 55.609375 28.21875 55.609375 21.1875 \r\nQ 55.609375 10.40625 48.1875 4.484375 \r\nQ 40.765625 -1.421875 27.09375 -1.421875 \r\nQ 22.515625 -1.421875 17.65625 -0.515625 \r\nQ 12.796875 0.390625 7.625 2.203125 \r\nL 7.625 11.71875 \r\nQ 11.71875 9.328125 16.59375 8.109375 \r\nQ 21.484375 6.890625 26.8125 6.890625 \r\nQ 36.078125 6.890625 40.9375 10.546875 \r\nQ 45.796875 14.203125 45.796875 21.1875 \r\nQ 45.796875 27.640625 41.28125 31.265625 \r\nQ 36.765625 34.90625 28.71875 34.90625 \r\nL 20.21875 34.90625 \r\nL 20.21875 43.015625 \r\nL 29.109375 43.015625 \r\nQ 36.375 43.015625 40.234375 45.921875 \r\nQ 44.09375 48.828125 44.09375 54.296875 \r\nQ 44.09375 59.90625 40.109375 62.90625 \r\nQ 36.140625 65.921875 28.71875 65.921875 \r\nQ 24.65625 65.921875 20.015625 65.03125 \r\nQ 15.375 64.15625 9.8125 62.3125 \r\nL 9.8125 71.09375 \r\nQ 15.4375 72.65625 20.34375 73.4375 \r\nQ 25.25 74.21875 29.59375 74.21875 \r\nQ 40.828125 74.21875 47.359375 69.109375 \r\nQ 53.90625 64.015625 53.90625 55.328125 \r\nQ 53.90625 49.265625 50.4375 45.09375 \r\nQ 46.96875 40.921875 40.578125 39.3125 \r\nz\r\n\" id=\"DejaVuSans-51\"/>\r\n       <path d=\"M 10.984375 1.515625 \r\nL 10.984375 10.5 \r\nQ 14.703125 8.734375 18.5 7.8125 \r\nQ 22.3125 6.890625 25.984375 6.890625 \r\nQ 35.75 6.890625 40.890625 13.453125 \r\nQ 46.046875 20.015625 46.78125 33.40625 \r\nQ 43.953125 29.203125 39.59375 26.953125 \r\nQ 35.25 24.703125 29.984375 24.703125 \r\nQ 19.046875 24.703125 12.671875 31.3125 \r\nQ 6.296875 37.9375 6.296875 49.421875 \r\nQ 6.296875 60.640625 12.9375 67.421875 \r\nQ 19.578125 74.21875 30.609375 74.21875 \r\nQ 43.265625 74.21875 49.921875 64.515625 \r\nQ 56.59375 54.828125 56.59375 36.375 \r\nQ 56.59375 19.140625 48.40625 8.859375 \r\nQ 40.234375 -1.421875 26.421875 -1.421875 \r\nQ 22.703125 -1.421875 18.890625 -0.6875 \r\nQ 15.09375 0.046875 10.984375 1.515625 \r\nz\r\nM 30.609375 32.421875 \r\nQ 37.25 32.421875 41.125 36.953125 \r\nQ 45.015625 41.5 45.015625 49.421875 \r\nQ 45.015625 57.28125 41.125 61.84375 \r\nQ 37.25 66.40625 30.609375 66.40625 \r\nQ 23.96875 66.40625 20.09375 61.84375 \r\nQ 16.21875 57.28125 16.21875 49.421875 \r\nQ 16.21875 41.5 20.09375 36.953125 \r\nQ 23.96875 32.421875 30.609375 32.421875 \r\nz\r\n\" id=\"DejaVuSans-57\"/>\r\n       <path d=\"M 10.6875 12.40625 \r\nL 21 12.40625 \r\nL 21 0 \r\nL 10.6875 0 \r\nz\r\n\" id=\"DejaVuSans-46\"/>\r\n      </defs>\r\n      <g transform=\"translate(80.5625 486.46375)rotate(-90)scale(0.1 -0.1)\">\r\n       <use xlink:href=\"#DejaVuSans-51\"/>\r\n       <use x=\"63.623047\" xlink:href=\"#DejaVuSans-57\"/>\r\n       <use x=\"127.246094\" xlink:href=\"#DejaVuSans-46\"/>\r\n       <use x=\"159.033203\" xlink:href=\"#DejaVuSans-51\"/>\r\n      </g>\r\n     </g>\r\n    </g>\r\n    <g id=\"xtick_2\">\r\n     <g id=\"line2d_2\">\r\n      <g>\r\n       <use style=\"stroke:#000000;stroke-width:0.8;\" x=\"152.203125\" xlink:href=\"#m1c3e96b72f\" y=\"457.198125\"/>\r\n      </g>\r\n     </g>\r\n     <g id=\"text_2\">\r\n      <!-- 42.9 -->\r\n      <defs>\r\n       <path d=\"M 37.796875 64.3125 \r\nL 12.890625 25.390625 \r\nL 37.796875 25.390625 \r\nz\r\nM 35.203125 72.90625 \r\nL 47.609375 72.90625 \r\nL 47.609375 25.390625 \r\nL 58.015625 25.390625 \r\nL 58.015625 17.1875 \r\nL 47.609375 17.1875 \r\nL 47.609375 0 \r\nL 37.796875 0 \r\nL 37.796875 17.1875 \r\nL 4.890625 17.1875 \r\nL 4.890625 26.703125 \r\nz\r\n\" id=\"DejaVuSans-52\"/>\r\n       <path d=\"M 19.1875 8.296875 \r\nL 53.609375 8.296875 \r\nL 53.609375 0 \r\nL 7.328125 0 \r\nL 7.328125 8.296875 \r\nQ 12.9375 14.109375 22.625 23.890625 \r\nQ 32.328125 33.6875 34.8125 36.53125 \r\nQ 39.546875 41.84375 41.421875 45.53125 \r\nQ 43.3125 49.21875 43.3125 52.78125 \r\nQ 43.3125 58.59375 39.234375 62.25 \r\nQ 35.15625 65.921875 28.609375 65.921875 \r\nQ 23.96875 65.921875 18.8125 64.3125 \r\nQ 13.671875 62.703125 7.8125 59.421875 \r\nL 7.8125 69.390625 \r\nQ 13.765625 71.78125 18.9375 73 \r\nQ 24.125 74.21875 28.421875 74.21875 \r\nQ 39.75 74.21875 46.484375 68.546875 \r\nQ 53.21875 62.890625 53.21875 53.421875 \r\nQ 53.21875 48.921875 51.53125 44.890625 \r\nQ 49.859375 40.875 45.40625 35.40625 \r\nQ 44.1875 33.984375 37.640625 27.21875 \r\nQ 31.109375 20.453125 19.1875 8.296875 \r\nz\r\n\" id=\"DejaVuSans-50\"/>\r\n      </defs>\r\n      <g transform=\"translate(154.9625 486.46375)rotate(-90)scale(0.1 -0.1)\">\r\n       <use xlink:href=\"#DejaVuSans-52\"/>\r\n       <use x=\"63.623047\" xlink:href=\"#DejaVuSans-50\"/>\r\n       <use x=\"127.246094\" xlink:href=\"#DejaVuSans-46\"/>\r\n       <use x=\"159.033203\" xlink:href=\"#DejaVuSans-57\"/>\r\n      </g>\r\n     </g>\r\n    </g>\r\n    <g id=\"xtick_3\">\r\n     <g id=\"line2d_3\">\r\n      <g>\r\n       <use style=\"stroke:#000000;stroke-width:0.8;\" x=\"226.603125\" xlink:href=\"#m1c3e96b72f\" y=\"457.198125\"/>\r\n      </g>\r\n     </g>\r\n     <g id=\"text_3\">\r\n      <!-- 46.4 -->\r\n      <defs>\r\n       <path d=\"M 33.015625 40.375 \r\nQ 26.375 40.375 22.484375 35.828125 \r\nQ 18.609375 31.296875 18.609375 23.390625 \r\nQ 18.609375 15.53125 22.484375 10.953125 \r\nQ 26.375 6.390625 33.015625 6.390625 \r\nQ 39.65625 6.390625 43.53125 10.953125 \r\nQ 47.40625 15.53125 47.40625 23.390625 \r\nQ 47.40625 31.296875 43.53125 35.828125 \r\nQ 39.65625 40.375 33.015625 40.375 \r\nz\r\nM 52.59375 71.296875 \r\nL 52.59375 62.3125 \r\nQ 48.875 64.0625 45.09375 64.984375 \r\nQ 41.3125 65.921875 37.59375 65.921875 \r\nQ 27.828125 65.921875 22.671875 59.328125 \r\nQ 17.53125 52.734375 16.796875 39.40625 \r\nQ 19.671875 43.65625 24.015625 45.921875 \r\nQ 28.375 48.1875 33.59375 48.1875 \r\nQ 44.578125 48.1875 50.953125 41.515625 \r\nQ 57.328125 34.859375 57.328125 23.390625 \r\nQ 57.328125 12.15625 50.6875 5.359375 \r\nQ 44.046875 -1.421875 33.015625 -1.421875 \r\nQ 20.359375 -1.421875 13.671875 8.265625 \r\nQ 6.984375 17.96875 6.984375 36.375 \r\nQ 6.984375 53.65625 15.1875 63.9375 \r\nQ 23.390625 74.21875 37.203125 74.21875 \r\nQ 40.921875 74.21875 44.703125 73.484375 \r\nQ 48.484375 72.75 52.59375 71.296875 \r\nz\r\n\" id=\"DejaVuSans-54\"/>\r\n      </defs>\r\n      <g transform=\"translate(229.3625 486.46375)rotate(-90)scale(0.1 -0.1)\">\r\n       <use xlink:href=\"#DejaVuSans-52\"/>\r\n       <use x=\"63.623047\" xlink:href=\"#DejaVuSans-54\"/>\r\n       <use x=\"127.246094\" xlink:href=\"#DejaVuSans-46\"/>\r\n       <use x=\"159.033203\" xlink:href=\"#DejaVuSans-52\"/>\r\n      </g>\r\n     </g>\r\n    </g>\r\n    <g id=\"xtick_4\">\r\n     <g id=\"line2d_4\">\r\n      <g>\r\n       <use style=\"stroke:#000000;stroke-width:0.8;\" x=\"301.003125\" xlink:href=\"#m1c3e96b72f\" y=\"457.198125\"/>\r\n      </g>\r\n     </g>\r\n     <g id=\"text_4\">\r\n      <!-- 50.0 -->\r\n      <defs>\r\n       <path d=\"M 10.796875 72.90625 \r\nL 49.515625 72.90625 \r\nL 49.515625 64.59375 \r\nL 19.828125 64.59375 \r\nL 19.828125 46.734375 \r\nQ 21.96875 47.46875 24.109375 47.828125 \r\nQ 26.265625 48.1875 28.421875 48.1875 \r\nQ 40.625 48.1875 47.75 41.5 \r\nQ 54.890625 34.8125 54.890625 23.390625 \r\nQ 54.890625 11.625 47.5625 5.09375 \r\nQ 40.234375 -1.421875 26.90625 -1.421875 \r\nQ 22.3125 -1.421875 17.546875 -0.640625 \r\nQ 12.796875 0.140625 7.71875 1.703125 \r\nL 7.71875 11.625 \r\nQ 12.109375 9.234375 16.796875 8.0625 \r\nQ 21.484375 6.890625 26.703125 6.890625 \r\nQ 35.15625 6.890625 40.078125 11.328125 \r\nQ 45.015625 15.765625 45.015625 23.390625 \r\nQ 45.015625 31 40.078125 35.4375 \r\nQ 35.15625 39.890625 26.703125 39.890625 \r\nQ 22.75 39.890625 18.8125 39.015625 \r\nQ 14.890625 38.140625 10.796875 36.28125 \r\nz\r\n\" id=\"DejaVuSans-53\"/>\r\n       <path d=\"M 31.78125 66.40625 \r\nQ 24.171875 66.40625 20.328125 58.90625 \r\nQ 16.5 51.421875 16.5 36.375 \r\nQ 16.5 21.390625 20.328125 13.890625 \r\nQ 24.171875 6.390625 31.78125 6.390625 \r\nQ 39.453125 6.390625 43.28125 13.890625 \r\nQ 47.125 21.390625 47.125 36.375 \r\nQ 47.125 51.421875 43.28125 58.90625 \r\nQ 39.453125 66.40625 31.78125 66.40625 \r\nz\r\nM 31.78125 74.21875 \r\nQ 44.046875 74.21875 50.515625 64.515625 \r\nQ 56.984375 54.828125 56.984375 36.375 \r\nQ 56.984375 17.96875 50.515625 8.265625 \r\nQ 44.046875 -1.421875 31.78125 -1.421875 \r\nQ 19.53125 -1.421875 13.0625 8.265625 \r\nQ 6.59375 17.96875 6.59375 36.375 \r\nQ 6.59375 54.828125 13.0625 64.515625 \r\nQ 19.53125 74.21875 31.78125 74.21875 \r\nz\r\n\" id=\"DejaVuSans-48\"/>\r\n      </defs>\r\n      <g transform=\"translate(303.7625 486.46375)rotate(-90)scale(0.1 -0.1)\">\r\n       <use xlink:href=\"#DejaVuSans-53\"/>\r\n       <use x=\"63.623047\" xlink:href=\"#DejaVuSans-48\"/>\r\n       <use x=\"127.246094\" xlink:href=\"#DejaVuSans-46\"/>\r\n       <use x=\"159.033203\" xlink:href=\"#DejaVuSans-48\"/>\r\n      </g>\r\n     </g>\r\n    </g>\r\n    <g id=\"xtick_5\">\r\n     <g id=\"line2d_5\">\r\n      <g>\r\n       <use style=\"stroke:#000000;stroke-width:0.8;\" x=\"375.403125\" xlink:href=\"#m1c3e96b72f\" y=\"457.198125\"/>\r\n      </g>\r\n     </g>\r\n     <g id=\"text_5\">\r\n      <!-- 53.6 -->\r\n      <g transform=\"translate(378.1625 486.46375)rotate(-90)scale(0.1 -0.1)\">\r\n       <use xlink:href=\"#DejaVuSans-53\"/>\r\n       <use x=\"63.623047\" xlink:href=\"#DejaVuSans-51\"/>\r\n       <use x=\"127.246094\" xlink:href=\"#DejaVuSans-46\"/>\r\n       <use x=\"159.033203\" xlink:href=\"#DejaVuSans-54\"/>\r\n      </g>\r\n     </g>\r\n    </g>\r\n    <g id=\"xtick_6\">\r\n     <g id=\"line2d_6\">\r\n      <g>\r\n       <use style=\"stroke:#000000;stroke-width:0.8;\" x=\"449.803125\" xlink:href=\"#m1c3e96b72f\" y=\"457.198125\"/>\r\n      </g>\r\n     </g>\r\n     <g id=\"text_6\">\r\n      <!-- 75.0 -->\r\n      <defs>\r\n       <path d=\"M 8.203125 72.90625 \r\nL 55.078125 72.90625 \r\nL 55.078125 68.703125 \r\nL 28.609375 0 \r\nL 18.3125 0 \r\nL 43.21875 64.59375 \r\nL 8.203125 64.59375 \r\nz\r\n\" id=\"DejaVuSans-55\"/>\r\n      </defs>\r\n      <g transform=\"translate(452.5625 486.46375)rotate(-90)scale(0.1 -0.1)\">\r\n       <use xlink:href=\"#DejaVuSans-55\"/>\r\n       <use x=\"63.623047\" xlink:href=\"#DejaVuSans-53\"/>\r\n       <use x=\"127.246094\" xlink:href=\"#DejaVuSans-46\"/>\r\n       <use x=\"159.033203\" xlink:href=\"#DejaVuSans-48\"/>\r\n      </g>\r\n     </g>\r\n    </g>\r\n    <g id=\"text_7\">\r\n     <!-- Percent Matched to Task -->\r\n     <defs>\r\n      <path d=\"M 19.671875 64.796875 \r\nL 19.671875 37.40625 \r\nL 32.078125 37.40625 \r\nQ 38.96875 37.40625 42.71875 40.96875 \r\nQ 46.484375 44.53125 46.484375 51.125 \r\nQ 46.484375 57.671875 42.71875 61.234375 \r\nQ 38.96875 64.796875 32.078125 64.796875 \r\nz\r\nM 9.8125 72.90625 \r\nL 32.078125 72.90625 \r\nQ 44.34375 72.90625 50.609375 67.359375 \r\nQ 56.890625 61.8125 56.890625 51.125 \r\nQ 56.890625 40.328125 50.609375 34.8125 \r\nQ 44.34375 29.296875 32.078125 29.296875 \r\nL 19.671875 29.296875 \r\nL 19.671875 0 \r\nL 9.8125 0 \r\nz\r\n\" id=\"DejaVuSans-80\"/>\r\n      <path d=\"M 56.203125 29.59375 \r\nL 56.203125 25.203125 \r\nL 14.890625 25.203125 \r\nQ 15.484375 15.921875 20.484375 11.0625 \r\nQ 25.484375 6.203125 34.421875 6.203125 \r\nQ 39.59375 6.203125 44.453125 7.46875 \r\nQ 49.3125 8.734375 54.109375 11.28125 \r\nL 54.109375 2.78125 \r\nQ 49.265625 0.734375 44.1875 -0.34375 \r\nQ 39.109375 -1.421875 33.890625 -1.421875 \r\nQ 20.796875 -1.421875 13.15625 6.1875 \r\nQ 5.515625 13.8125 5.515625 26.8125 \r\nQ 5.515625 40.234375 12.765625 48.109375 \r\nQ 20.015625 56 32.328125 56 \r\nQ 43.359375 56 49.78125 48.890625 \r\nQ 56.203125 41.796875 56.203125 29.59375 \r\nz\r\nM 47.21875 32.234375 \r\nQ 47.125 39.59375 43.09375 43.984375 \r\nQ 39.0625 48.390625 32.421875 48.390625 \r\nQ 24.90625 48.390625 20.390625 44.140625 \r\nQ 15.875 39.890625 15.1875 32.171875 \r\nz\r\n\" id=\"DejaVuSans-101\"/>\r\n      <path d=\"M 41.109375 46.296875 \r\nQ 39.59375 47.171875 37.8125 47.578125 \r\nQ 36.03125 48 33.890625 48 \r\nQ 26.265625 48 22.1875 43.046875 \r\nQ 18.109375 38.09375 18.109375 28.8125 \r\nL 18.109375 0 \r\nL 9.078125 0 \r\nL 9.078125 54.6875 \r\nL 18.109375 54.6875 \r\nL 18.109375 46.1875 \r\nQ 20.953125 51.171875 25.484375 53.578125 \r\nQ 30.03125 56 36.53125 56 \r\nQ 37.453125 56 38.578125 55.875 \r\nQ 39.703125 55.765625 41.0625 55.515625 \r\nz\r\n\" id=\"DejaVuSans-114\"/>\r\n      <path d=\"M 48.78125 52.59375 \r\nL 48.78125 44.1875 \r\nQ 44.96875 46.296875 41.140625 47.34375 \r\nQ 37.3125 48.390625 33.40625 48.390625 \r\nQ 24.65625 48.390625 19.8125 42.84375 \r\nQ 14.984375 37.3125 14.984375 27.296875 \r\nQ 14.984375 17.28125 19.8125 11.734375 \r\nQ 24.65625 6.203125 33.40625 6.203125 \r\nQ 37.3125 6.203125 41.140625 7.25 \r\nQ 44.96875 8.296875 48.78125 10.40625 \r\nL 48.78125 2.09375 \r\nQ 45.015625 0.34375 40.984375 -0.53125 \r\nQ 36.96875 -1.421875 32.421875 -1.421875 \r\nQ 20.0625 -1.421875 12.78125 6.34375 \r\nQ 5.515625 14.109375 5.515625 27.296875 \r\nQ 5.515625 40.671875 12.859375 48.328125 \r\nQ 20.21875 56 33.015625 56 \r\nQ 37.15625 56 41.109375 55.140625 \r\nQ 45.0625 54.296875 48.78125 52.59375 \r\nz\r\n\" id=\"DejaVuSans-99\"/>\r\n      <path d=\"M 54.890625 33.015625 \r\nL 54.890625 0 \r\nL 45.90625 0 \r\nL 45.90625 32.71875 \r\nQ 45.90625 40.484375 42.875 44.328125 \r\nQ 39.84375 48.1875 33.796875 48.1875 \r\nQ 26.515625 48.1875 22.3125 43.546875 \r\nQ 18.109375 38.921875 18.109375 30.90625 \r\nL 18.109375 0 \r\nL 9.078125 0 \r\nL 9.078125 54.6875 \r\nL 18.109375 54.6875 \r\nL 18.109375 46.1875 \r\nQ 21.34375 51.125 25.703125 53.5625 \r\nQ 30.078125 56 35.796875 56 \r\nQ 45.21875 56 50.046875 50.171875 \r\nQ 54.890625 44.34375 54.890625 33.015625 \r\nz\r\n\" id=\"DejaVuSans-110\"/>\r\n      <path d=\"M 18.3125 70.21875 \r\nL 18.3125 54.6875 \r\nL 36.8125 54.6875 \r\nL 36.8125 47.703125 \r\nL 18.3125 47.703125 \r\nL 18.3125 18.015625 \r\nQ 18.3125 11.328125 20.140625 9.421875 \r\nQ 21.96875 7.515625 27.59375 7.515625 \r\nL 36.8125 7.515625 \r\nL 36.8125 0 \r\nL 27.59375 0 \r\nQ 17.1875 0 13.234375 3.875 \r\nQ 9.28125 7.765625 9.28125 18.015625 \r\nL 9.28125 47.703125 \r\nL 2.6875 47.703125 \r\nL 2.6875 54.6875 \r\nL 9.28125 54.6875 \r\nL 9.28125 70.21875 \r\nz\r\n\" id=\"DejaVuSans-116\"/>\r\n      <path id=\"DejaVuSans-32\"/>\r\n      <path d=\"M 9.8125 72.90625 \r\nL 24.515625 72.90625 \r\nL 43.109375 23.296875 \r\nL 61.8125 72.90625 \r\nL 76.515625 72.90625 \r\nL 76.515625 0 \r\nL 66.890625 0 \r\nL 66.890625 64.015625 \r\nL 48.09375 14.015625 \r\nL 38.1875 14.015625 \r\nL 19.390625 64.015625 \r\nL 19.390625 0 \r\nL 9.8125 0 \r\nz\r\n\" id=\"DejaVuSans-77\"/>\r\n      <path d=\"M 34.28125 27.484375 \r\nQ 23.390625 27.484375 19.1875 25 \r\nQ 14.984375 22.515625 14.984375 16.5 \r\nQ 14.984375 11.71875 18.140625 8.90625 \r\nQ 21.296875 6.109375 26.703125 6.109375 \r\nQ 34.1875 6.109375 38.703125 11.40625 \r\nQ 43.21875 16.703125 43.21875 25.484375 \r\nL 43.21875 27.484375 \r\nz\r\nM 52.203125 31.203125 \r\nL 52.203125 0 \r\nL 43.21875 0 \r\nL 43.21875 8.296875 \r\nQ 40.140625 3.328125 35.546875 0.953125 \r\nQ 30.953125 -1.421875 24.3125 -1.421875 \r\nQ 15.921875 -1.421875 10.953125 3.296875 \r\nQ 6 8.015625 6 15.921875 \r\nQ 6 25.140625 12.171875 29.828125 \r\nQ 18.359375 34.515625 30.609375 34.515625 \r\nL 43.21875 34.515625 \r\nL 43.21875 35.40625 \r\nQ 43.21875 41.609375 39.140625 45 \r\nQ 35.0625 48.390625 27.6875 48.390625 \r\nQ 23 48.390625 18.546875 47.265625 \r\nQ 14.109375 46.140625 10.015625 43.890625 \r\nL 10.015625 52.203125 \r\nQ 14.9375 54.109375 19.578125 55.046875 \r\nQ 24.21875 56 28.609375 56 \r\nQ 40.484375 56 46.34375 49.84375 \r\nQ 52.203125 43.703125 52.203125 31.203125 \r\nz\r\n\" id=\"DejaVuSans-97\"/>\r\n      <path d=\"M 54.890625 33.015625 \r\nL 54.890625 0 \r\nL 45.90625 0 \r\nL 45.90625 32.71875 \r\nQ 45.90625 40.484375 42.875 44.328125 \r\nQ 39.84375 48.1875 33.796875 48.1875 \r\nQ 26.515625 48.1875 22.3125 43.546875 \r\nQ 18.109375 38.921875 18.109375 30.90625 \r\nL 18.109375 0 \r\nL 9.078125 0 \r\nL 9.078125 75.984375 \r\nL 18.109375 75.984375 \r\nL 18.109375 46.1875 \r\nQ 21.34375 51.125 25.703125 53.5625 \r\nQ 30.078125 56 35.796875 56 \r\nQ 45.21875 56 50.046875 50.171875 \r\nQ 54.890625 44.34375 54.890625 33.015625 \r\nz\r\n\" id=\"DejaVuSans-104\"/>\r\n      <path d=\"M 45.40625 46.390625 \r\nL 45.40625 75.984375 \r\nL 54.390625 75.984375 \r\nL 54.390625 0 \r\nL 45.40625 0 \r\nL 45.40625 8.203125 \r\nQ 42.578125 3.328125 38.25 0.953125 \r\nQ 33.9375 -1.421875 27.875 -1.421875 \r\nQ 17.96875 -1.421875 11.734375 6.484375 \r\nQ 5.515625 14.40625 5.515625 27.296875 \r\nQ 5.515625 40.1875 11.734375 48.09375 \r\nQ 17.96875 56 27.875 56 \r\nQ 33.9375 56 38.25 53.625 \r\nQ 42.578125 51.265625 45.40625 46.390625 \r\nz\r\nM 14.796875 27.296875 \r\nQ 14.796875 17.390625 18.875 11.75 \r\nQ 22.953125 6.109375 30.078125 6.109375 \r\nQ 37.203125 6.109375 41.296875 11.75 \r\nQ 45.40625 17.390625 45.40625 27.296875 \r\nQ 45.40625 37.203125 41.296875 42.84375 \r\nQ 37.203125 48.484375 30.078125 48.484375 \r\nQ 22.953125 48.484375 18.875 42.84375 \r\nQ 14.796875 37.203125 14.796875 27.296875 \r\nz\r\n\" id=\"DejaVuSans-100\"/>\r\n      <path d=\"M 30.609375 48.390625 \r\nQ 23.390625 48.390625 19.1875 42.75 \r\nQ 14.984375 37.109375 14.984375 27.296875 \r\nQ 14.984375 17.484375 19.15625 11.84375 \r\nQ 23.34375 6.203125 30.609375 6.203125 \r\nQ 37.796875 6.203125 41.984375 11.859375 \r\nQ 46.1875 17.53125 46.1875 27.296875 \r\nQ 46.1875 37.015625 41.984375 42.703125 \r\nQ 37.796875 48.390625 30.609375 48.390625 \r\nz\r\nM 30.609375 56 \r\nQ 42.328125 56 49.015625 48.375 \r\nQ 55.71875 40.765625 55.71875 27.296875 \r\nQ 55.71875 13.875 49.015625 6.21875 \r\nQ 42.328125 -1.421875 30.609375 -1.421875 \r\nQ 18.84375 -1.421875 12.171875 6.21875 \r\nQ 5.515625 13.875 5.515625 27.296875 \r\nQ 5.515625 40.765625 12.171875 48.375 \r\nQ 18.84375 56 30.609375 56 \r\nz\r\n\" id=\"DejaVuSans-111\"/>\r\n      <path d=\"M -0.296875 72.90625 \r\nL 61.375 72.90625 \r\nL 61.375 64.59375 \r\nL 35.5 64.59375 \r\nL 35.5 0 \r\nL 25.59375 0 \r\nL 25.59375 64.59375 \r\nL -0.296875 64.59375 \r\nz\r\n\" id=\"DejaVuSans-84\"/>\r\n      <path d=\"M 44.28125 53.078125 \r\nL 44.28125 44.578125 \r\nQ 40.484375 46.53125 36.375 47.5 \r\nQ 32.28125 48.484375 27.875 48.484375 \r\nQ 21.1875 48.484375 17.84375 46.4375 \r\nQ 14.5 44.390625 14.5 40.28125 \r\nQ 14.5 37.15625 16.890625 35.375 \r\nQ 19.28125 33.59375 26.515625 31.984375 \r\nL 29.59375 31.296875 \r\nQ 39.15625 29.25 43.1875 25.515625 \r\nQ 47.21875 21.78125 47.21875 15.09375 \r\nQ 47.21875 7.46875 41.1875 3.015625 \r\nQ 35.15625 -1.421875 24.609375 -1.421875 \r\nQ 20.21875 -1.421875 15.453125 -0.5625 \r\nQ 10.6875 0.296875 5.421875 2 \r\nL 5.421875 11.28125 \r\nQ 10.40625 8.6875 15.234375 7.390625 \r\nQ 20.0625 6.109375 24.8125 6.109375 \r\nQ 31.15625 6.109375 34.5625 8.28125 \r\nQ 37.984375 10.453125 37.984375 14.40625 \r\nQ 37.984375 18.0625 35.515625 20.015625 \r\nQ 33.0625 21.96875 24.703125 23.78125 \r\nL 21.578125 24.515625 \r\nQ 13.234375 26.265625 9.515625 29.90625 \r\nQ 5.8125 33.546875 5.8125 39.890625 \r\nQ 5.8125 47.609375 11.28125 51.796875 \r\nQ 16.75 56 26.8125 56 \r\nQ 31.78125 56 36.171875 55.265625 \r\nQ 40.578125 54.546875 44.28125 53.078125 \r\nz\r\n\" id=\"DejaVuSans-115\"/>\r\n      <path d=\"M 9.078125 75.984375 \r\nL 18.109375 75.984375 \r\nL 18.109375 31.109375 \r\nL 44.921875 54.6875 \r\nL 56.390625 54.6875 \r\nL 27.390625 29.109375 \r\nL 57.625 0 \r\nL 45.90625 0 \r\nL 18.109375 26.703125 \r\nL 18.109375 0 \r\nL 9.078125 0 \r\nz\r\n\" id=\"DejaVuSans-107\"/>\r\n     </defs>\r\n     <g transform=\"translate(201.80625 498.062187)scale(0.1 -0.1)\">\r\n      <use xlink:href=\"#DejaVuSans-80\"/>\r\n      <use x=\"60.255859\" xlink:href=\"#DejaVuSans-101\"/>\r\n      <use x=\"121.779297\" xlink:href=\"#DejaVuSans-114\"/>\r\n      <use x=\"162.861328\" xlink:href=\"#DejaVuSans-99\"/>\r\n      <use x=\"217.841797\" xlink:href=\"#DejaVuSans-101\"/>\r\n      <use x=\"279.365234\" xlink:href=\"#DejaVuSans-110\"/>\r\n      <use x=\"342.744141\" xlink:href=\"#DejaVuSans-116\"/>\r\n      <use x=\"381.953125\" xlink:href=\"#DejaVuSans-32\"/>\r\n      <use x=\"413.740234\" xlink:href=\"#DejaVuSans-77\"/>\r\n      <use x=\"500.019531\" xlink:href=\"#DejaVuSans-97\"/>\r\n      <use x=\"561.298828\" xlink:href=\"#DejaVuSans-116\"/>\r\n      <use x=\"600.507812\" xlink:href=\"#DejaVuSans-99\"/>\r\n      <use x=\"655.488281\" xlink:href=\"#DejaVuSans-104\"/>\r\n      <use x=\"718.867188\" xlink:href=\"#DejaVuSans-101\"/>\r\n      <use x=\"780.390625\" xlink:href=\"#DejaVuSans-100\"/>\r\n      <use x=\"843.867188\" xlink:href=\"#DejaVuSans-32\"/>\r\n      <use x=\"875.654297\" xlink:href=\"#DejaVuSans-116\"/>\r\n      <use x=\"914.863281\" xlink:href=\"#DejaVuSans-111\"/>\r\n      <use x=\"976.044922\" xlink:href=\"#DejaVuSans-32\"/>\r\n      <use x=\"1007.832031\" xlink:href=\"#DejaVuSans-84\"/>\r\n      <use x=\"1068.666016\" xlink:href=\"#DejaVuSans-97\"/>\r\n      <use x=\"1129.945312\" xlink:href=\"#DejaVuSans-115\"/>\r\n      <use x=\"1182.044922\" xlink:href=\"#DejaVuSans-107\"/>\r\n     </g>\r\n    </g>\r\n   </g>\r\n   <g id=\"matplotlib.axis_2\">\r\n    <g id=\"ytick_1\">\r\n     <g id=\"line2d_7\">\r\n      <defs>\r\n       <path d=\"M 0 0 \r\nL -3.5 0 \r\n\" id=\"m1c36ba5023\" style=\"stroke:#000000;stroke-width:0.8;\"/>\r\n      </defs>\r\n      <g>\r\n       <use style=\"stroke:#000000;stroke-width:0.8;\" x=\"40.603125\" xlink:href=\"#m1c36ba5023\" y=\"457.198125\"/>\r\n      </g>\r\n     </g>\r\n     <g id=\"text_8\">\r\n      <!-- 0 -->\r\n      <g transform=\"translate(27.240625 460.997344)scale(0.1 -0.1)\">\r\n       <use xlink:href=\"#DejaVuSans-48\"/>\r\n      </g>\r\n     </g>\r\n    </g>\r\n    <g id=\"ytick_2\">\r\n     <g id=\"line2d_8\">\r\n      <g>\r\n       <use style=\"stroke:#000000;stroke-width:0.8;\" x=\"40.603125\" xlink:href=\"#m1c36ba5023\" y=\"401.975268\"/>\r\n      </g>\r\n     </g>\r\n     <g id=\"text_9\">\r\n      <!-- 10 -->\r\n      <defs>\r\n       <path d=\"M 12.40625 8.296875 \r\nL 28.515625 8.296875 \r\nL 28.515625 63.921875 \r\nL 10.984375 60.40625 \r\nL 10.984375 69.390625 \r\nL 28.421875 72.90625 \r\nL 38.28125 72.90625 \r\nL 38.28125 8.296875 \r\nL 54.390625 8.296875 \r\nL 54.390625 0 \r\nL 12.40625 0 \r\nz\r\n\" id=\"DejaVuSans-49\"/>\r\n      </defs>\r\n      <g transform=\"translate(20.878125 405.774487)scale(0.1 -0.1)\">\r\n       <use xlink:href=\"#DejaVuSans-49\"/>\r\n       <use x=\"63.623047\" xlink:href=\"#DejaVuSans-48\"/>\r\n      </g>\r\n     </g>\r\n    </g>\r\n    <g id=\"ytick_3\">\r\n     <g id=\"line2d_9\">\r\n      <g>\r\n       <use style=\"stroke:#000000;stroke-width:0.8;\" x=\"40.603125\" xlink:href=\"#m1c36ba5023\" y=\"346.752411\"/>\r\n      </g>\r\n     </g>\r\n     <g id=\"text_10\">\r\n      <!-- 20 -->\r\n      <g transform=\"translate(20.878125 350.551629)scale(0.1 -0.1)\">\r\n       <use xlink:href=\"#DejaVuSans-50\"/>\r\n       <use x=\"63.623047\" xlink:href=\"#DejaVuSans-48\"/>\r\n      </g>\r\n     </g>\r\n    </g>\r\n    <g id=\"ytick_4\">\r\n     <g id=\"line2d_10\">\r\n      <g>\r\n       <use style=\"stroke:#000000;stroke-width:0.8;\" x=\"40.603125\" xlink:href=\"#m1c36ba5023\" y=\"291.529554\"/>\r\n      </g>\r\n     </g>\r\n     <g id=\"text_11\">\r\n      <!-- 30 -->\r\n      <g transform=\"translate(20.878125 295.328772)scale(0.1 -0.1)\">\r\n       <use xlink:href=\"#DejaVuSans-51\"/>\r\n       <use x=\"63.623047\" xlink:href=\"#DejaVuSans-48\"/>\r\n      </g>\r\n     </g>\r\n    </g>\r\n    <g id=\"ytick_5\">\r\n     <g id=\"line2d_11\">\r\n      <g>\r\n       <use style=\"stroke:#000000;stroke-width:0.8;\" x=\"40.603125\" xlink:href=\"#m1c36ba5023\" y=\"236.306696\"/>\r\n      </g>\r\n     </g>\r\n     <g id=\"text_12\">\r\n      <!-- 40 -->\r\n      <g transform=\"translate(20.878125 240.105915)scale(0.1 -0.1)\">\r\n       <use xlink:href=\"#DejaVuSans-52\"/>\r\n       <use x=\"63.623047\" xlink:href=\"#DejaVuSans-48\"/>\r\n      </g>\r\n     </g>\r\n    </g>\r\n    <g id=\"ytick_6\">\r\n     <g id=\"line2d_12\">\r\n      <g>\r\n       <use style=\"stroke:#000000;stroke-width:0.8;\" x=\"40.603125\" xlink:href=\"#m1c36ba5023\" y=\"181.083839\"/>\r\n      </g>\r\n     </g>\r\n     <g id=\"text_13\">\r\n      <!-- 50 -->\r\n      <g transform=\"translate(20.878125 184.883058)scale(0.1 -0.1)\">\r\n       <use xlink:href=\"#DejaVuSans-53\"/>\r\n       <use x=\"63.623047\" xlink:href=\"#DejaVuSans-48\"/>\r\n      </g>\r\n     </g>\r\n    </g>\r\n    <g id=\"ytick_7\">\r\n     <g id=\"line2d_13\">\r\n      <g>\r\n       <use style=\"stroke:#000000;stroke-width:0.8;\" x=\"40.603125\" xlink:href=\"#m1c36ba5023\" y=\"125.860982\"/>\r\n      </g>\r\n     </g>\r\n     <g id=\"text_14\">\r\n      <!-- 60 -->\r\n      <g transform=\"translate(20.878125 129.660201)scale(0.1 -0.1)\">\r\n       <use xlink:href=\"#DejaVuSans-54\"/>\r\n       <use x=\"63.623047\" xlink:href=\"#DejaVuSans-48\"/>\r\n      </g>\r\n     </g>\r\n    </g>\r\n    <g id=\"ytick_8\">\r\n     <g id=\"line2d_14\">\r\n      <g>\r\n       <use style=\"stroke:#000000;stroke-width:0.8;\" x=\"40.603125\" xlink:href=\"#m1c36ba5023\" y=\"70.638125\"/>\r\n      </g>\r\n     </g>\r\n     <g id=\"text_15\">\r\n      <!-- 70 -->\r\n      <g transform=\"translate(20.878125 74.437344)scale(0.1 -0.1)\">\r\n       <use xlink:href=\"#DejaVuSans-55\"/>\r\n       <use x=\"63.623047\" xlink:href=\"#DejaVuSans-48\"/>\r\n      </g>\r\n     </g>\r\n    </g>\r\n    <g id=\"text_16\">\r\n     <!-- Number of Articles -->\r\n     <defs>\r\n      <path d=\"M 9.8125 72.90625 \r\nL 23.09375 72.90625 \r\nL 55.421875 11.921875 \r\nL 55.421875 72.90625 \r\nL 64.984375 72.90625 \r\nL 64.984375 0 \r\nL 51.703125 0 \r\nL 19.390625 60.984375 \r\nL 19.390625 0 \r\nL 9.8125 0 \r\nz\r\n\" id=\"DejaVuSans-78\"/>\r\n      <path d=\"M 8.5 21.578125 \r\nL 8.5 54.6875 \r\nL 17.484375 54.6875 \r\nL 17.484375 21.921875 \r\nQ 17.484375 14.15625 20.5 10.265625 \r\nQ 23.53125 6.390625 29.59375 6.390625 \r\nQ 36.859375 6.390625 41.078125 11.03125 \r\nQ 45.3125 15.671875 45.3125 23.6875 \r\nL 45.3125 54.6875 \r\nL 54.296875 54.6875 \r\nL 54.296875 0 \r\nL 45.3125 0 \r\nL 45.3125 8.40625 \r\nQ 42.046875 3.421875 37.71875 1 \r\nQ 33.40625 -1.421875 27.6875 -1.421875 \r\nQ 18.265625 -1.421875 13.375 4.4375 \r\nQ 8.5 10.296875 8.5 21.578125 \r\nz\r\nM 31.109375 56 \r\nz\r\n\" id=\"DejaVuSans-117\"/>\r\n      <path d=\"M 52 44.1875 \r\nQ 55.375 50.25 60.0625 53.125 \r\nQ 64.75 56 71.09375 56 \r\nQ 79.640625 56 84.28125 50.015625 \r\nQ 88.921875 44.046875 88.921875 33.015625 \r\nL 88.921875 0 \r\nL 79.890625 0 \r\nL 79.890625 32.71875 \r\nQ 79.890625 40.578125 77.09375 44.375 \r\nQ 74.3125 48.1875 68.609375 48.1875 \r\nQ 61.625 48.1875 57.5625 43.546875 \r\nQ 53.515625 38.921875 53.515625 30.90625 \r\nL 53.515625 0 \r\nL 44.484375 0 \r\nL 44.484375 32.71875 \r\nQ 44.484375 40.625 41.703125 44.40625 \r\nQ 38.921875 48.1875 33.109375 48.1875 \r\nQ 26.21875 48.1875 22.15625 43.53125 \r\nQ 18.109375 38.875 18.109375 30.90625 \r\nL 18.109375 0 \r\nL 9.078125 0 \r\nL 9.078125 54.6875 \r\nL 18.109375 54.6875 \r\nL 18.109375 46.1875 \r\nQ 21.1875 51.21875 25.484375 53.609375 \r\nQ 29.78125 56 35.6875 56 \r\nQ 41.65625 56 45.828125 52.96875 \r\nQ 50 49.953125 52 44.1875 \r\nz\r\n\" id=\"DejaVuSans-109\"/>\r\n      <path d=\"M 48.6875 27.296875 \r\nQ 48.6875 37.203125 44.609375 42.84375 \r\nQ 40.53125 48.484375 33.40625 48.484375 \r\nQ 26.265625 48.484375 22.1875 42.84375 \r\nQ 18.109375 37.203125 18.109375 27.296875 \r\nQ 18.109375 17.390625 22.1875 11.75 \r\nQ 26.265625 6.109375 33.40625 6.109375 \r\nQ 40.53125 6.109375 44.609375 11.75 \r\nQ 48.6875 17.390625 48.6875 27.296875 \r\nz\r\nM 18.109375 46.390625 \r\nQ 20.953125 51.265625 25.265625 53.625 \r\nQ 29.59375 56 35.59375 56 \r\nQ 45.5625 56 51.78125 48.09375 \r\nQ 58.015625 40.1875 58.015625 27.296875 \r\nQ 58.015625 14.40625 51.78125 6.484375 \r\nQ 45.5625 -1.421875 35.59375 -1.421875 \r\nQ 29.59375 -1.421875 25.265625 0.953125 \r\nQ 20.953125 3.328125 18.109375 8.203125 \r\nL 18.109375 0 \r\nL 9.078125 0 \r\nL 9.078125 75.984375 \r\nL 18.109375 75.984375 \r\nz\r\n\" id=\"DejaVuSans-98\"/>\r\n      <path d=\"M 37.109375 75.984375 \r\nL 37.109375 68.5 \r\nL 28.515625 68.5 \r\nQ 23.6875 68.5 21.796875 66.546875 \r\nQ 19.921875 64.59375 19.921875 59.515625 \r\nL 19.921875 54.6875 \r\nL 34.71875 54.6875 \r\nL 34.71875 47.703125 \r\nL 19.921875 47.703125 \r\nL 19.921875 0 \r\nL 10.890625 0 \r\nL 10.890625 47.703125 \r\nL 2.296875 47.703125 \r\nL 2.296875 54.6875 \r\nL 10.890625 54.6875 \r\nL 10.890625 58.5 \r\nQ 10.890625 67.625 15.140625 71.796875 \r\nQ 19.390625 75.984375 28.609375 75.984375 \r\nz\r\n\" id=\"DejaVuSans-102\"/>\r\n      <path d=\"M 34.1875 63.1875 \r\nL 20.796875 26.90625 \r\nL 47.609375 26.90625 \r\nz\r\nM 28.609375 72.90625 \r\nL 39.796875 72.90625 \r\nL 67.578125 0 \r\nL 57.328125 0 \r\nL 50.6875 18.703125 \r\nL 17.828125 18.703125 \r\nL 11.1875 0 \r\nL 0.78125 0 \r\nz\r\n\" id=\"DejaVuSans-65\"/>\r\n      <path d=\"M 9.421875 54.6875 \r\nL 18.40625 54.6875 \r\nL 18.40625 0 \r\nL 9.421875 0 \r\nz\r\nM 9.421875 75.984375 \r\nL 18.40625 75.984375 \r\nL 18.40625 64.59375 \r\nL 9.421875 64.59375 \r\nz\r\n\" id=\"DejaVuSans-105\"/>\r\n      <path d=\"M 9.421875 75.984375 \r\nL 18.40625 75.984375 \r\nL 18.40625 0 \r\nL 9.421875 0 \r\nz\r\n\" id=\"DejaVuSans-108\"/>\r\n     </defs>\r\n     <g transform=\"translate(14.798438 286.48625)rotate(-90)scale(0.1 -0.1)\">\r\n      <use xlink:href=\"#DejaVuSans-78\"/>\r\n      <use x=\"74.804688\" xlink:href=\"#DejaVuSans-117\"/>\r\n      <use x=\"138.183594\" xlink:href=\"#DejaVuSans-109\"/>\r\n      <use x=\"235.595703\" xlink:href=\"#DejaVuSans-98\"/>\r\n      <use x=\"299.072266\" xlink:href=\"#DejaVuSans-101\"/>\r\n      <use x=\"360.595703\" xlink:href=\"#DejaVuSans-114\"/>\r\n      <use x=\"401.708984\" xlink:href=\"#DejaVuSans-32\"/>\r\n      <use x=\"433.496094\" xlink:href=\"#DejaVuSans-111\"/>\r\n      <use x=\"494.677734\" xlink:href=\"#DejaVuSans-102\"/>\r\n      <use x=\"529.882812\" xlink:href=\"#DejaVuSans-32\"/>\r\n      <use x=\"561.669922\" xlink:href=\"#DejaVuSans-65\"/>\r\n      <use x=\"630.078125\" xlink:href=\"#DejaVuSans-114\"/>\r\n      <use x=\"671.191406\" xlink:href=\"#DejaVuSans-116\"/>\r\n      <use x=\"710.400391\" xlink:href=\"#DejaVuSans-105\"/>\r\n      <use x=\"738.183594\" xlink:href=\"#DejaVuSans-99\"/>\r\n      <use x=\"793.164062\" xlink:href=\"#DejaVuSans-108\"/>\r\n      <use x=\"820.947266\" xlink:href=\"#DejaVuSans-101\"/>\r\n      <use x=\"882.470703\" xlink:href=\"#DejaVuSans-115\"/>\r\n     </g>\r\n    </g>\r\n   </g>\r\n   <g id=\"patch_9\">\r\n    <path d=\"M 40.603125 457.198125 \r\nL 40.603125 22.318125 \r\n\" style=\"fill:none;stroke:#000000;stroke-linecap:square;stroke-linejoin:miter;stroke-width:0.8;\"/>\r\n   </g>\r\n   <g id=\"patch_10\">\r\n    <path d=\"M 487.003125 457.198125 \r\nL 487.003125 22.318125 \r\n\" style=\"fill:none;stroke:#000000;stroke-linecap:square;stroke-linejoin:miter;stroke-width:0.8;\"/>\r\n   </g>\r\n   <g id=\"patch_11\">\r\n    <path d=\"M 40.603125 457.198125 \r\nL 487.003125 457.198125 \r\n\" style=\"fill:none;stroke:#000000;stroke-linecap:square;stroke-linejoin:miter;stroke-width:0.8;\"/>\r\n   </g>\r\n   <g id=\"patch_12\">\r\n    <path d=\"M 40.603125 22.318125 \r\nL 487.003125 22.318125 \r\n\" style=\"fill:none;stroke:#000000;stroke-linecap:square;stroke-linejoin:miter;stroke-width:0.8;\"/>\r\n   </g>\r\n   <g id=\"text_17\">\r\n    <!-- Number of Articles and How They Relate to Vaccines and Therapeutics of COVID-19 -->\r\n    <defs>\r\n     <path d=\"M 9.8125 72.90625 \r\nL 19.671875 72.90625 \r\nL 19.671875 43.015625 \r\nL 55.515625 43.015625 \r\nL 55.515625 72.90625 \r\nL 65.375 72.90625 \r\nL 65.375 0 \r\nL 55.515625 0 \r\nL 55.515625 34.71875 \r\nL 19.671875 34.71875 \r\nL 19.671875 0 \r\nL 9.8125 0 \r\nz\r\n\" id=\"DejaVuSans-72\"/>\r\n     <path d=\"M 4.203125 54.6875 \r\nL 13.1875 54.6875 \r\nL 24.421875 12.015625 \r\nL 35.59375 54.6875 \r\nL 46.1875 54.6875 \r\nL 57.421875 12.015625 \r\nL 68.609375 54.6875 \r\nL 77.59375 54.6875 \r\nL 63.28125 0 \r\nL 52.6875 0 \r\nL 40.921875 44.828125 \r\nL 29.109375 0 \r\nL 18.5 0 \r\nz\r\n\" id=\"DejaVuSans-119\"/>\r\n     <path d=\"M 32.171875 -5.078125 \r\nQ 28.375 -14.84375 24.75 -17.8125 \r\nQ 21.140625 -20.796875 15.09375 -20.796875 \r\nL 7.90625 -20.796875 \r\nL 7.90625 -13.28125 \r\nL 13.1875 -13.28125 \r\nQ 16.890625 -13.28125 18.9375 -11.515625 \r\nQ 21 -9.765625 23.484375 -3.21875 \r\nL 25.09375 0.875 \r\nL 2.984375 54.6875 \r\nL 12.5 54.6875 \r\nL 29.59375 11.921875 \r\nL 46.6875 54.6875 \r\nL 56.203125 54.6875 \r\nz\r\n\" id=\"DejaVuSans-121\"/>\r\n     <path d=\"M 44.390625 34.1875 \r\nQ 47.5625 33.109375 50.5625 29.59375 \r\nQ 53.5625 26.078125 56.59375 19.921875 \r\nL 66.609375 0 \r\nL 56 0 \r\nL 46.6875 18.703125 \r\nQ 43.0625 26.03125 39.671875 28.421875 \r\nQ 36.28125 30.8125 30.421875 30.8125 \r\nL 19.671875 30.8125 \r\nL 19.671875 0 \r\nL 9.8125 0 \r\nL 9.8125 72.90625 \r\nL 32.078125 72.90625 \r\nQ 44.578125 72.90625 50.734375 67.671875 \r\nQ 56.890625 62.453125 56.890625 51.90625 \r\nQ 56.890625 45.015625 53.6875 40.46875 \r\nQ 50.484375 35.9375 44.390625 34.1875 \r\nz\r\nM 19.671875 64.796875 \r\nL 19.671875 38.921875 \r\nL 32.078125 38.921875 \r\nQ 39.203125 38.921875 42.84375 42.21875 \r\nQ 46.484375 45.515625 46.484375 51.90625 \r\nQ 46.484375 58.296875 42.84375 61.546875 \r\nQ 39.203125 64.796875 32.078125 64.796875 \r\nz\r\n\" id=\"DejaVuSans-82\"/>\r\n     <path d=\"M 28.609375 0 \r\nL 0.78125 72.90625 \r\nL 11.078125 72.90625 \r\nL 34.1875 11.53125 \r\nL 57.328125 72.90625 \r\nL 67.578125 72.90625 \r\nL 39.796875 0 \r\nz\r\n\" id=\"DejaVuSans-86\"/>\r\n     <path d=\"M 18.109375 8.203125 \r\nL 18.109375 -20.796875 \r\nL 9.078125 -20.796875 \r\nL 9.078125 54.6875 \r\nL 18.109375 54.6875 \r\nL 18.109375 46.390625 \r\nQ 20.953125 51.265625 25.265625 53.625 \r\nQ 29.59375 56 35.59375 56 \r\nQ 45.5625 56 51.78125 48.09375 \r\nQ 58.015625 40.1875 58.015625 27.296875 \r\nQ 58.015625 14.40625 51.78125 6.484375 \r\nQ 45.5625 -1.421875 35.59375 -1.421875 \r\nQ 29.59375 -1.421875 25.265625 0.953125 \r\nQ 20.953125 3.328125 18.109375 8.203125 \r\nz\r\nM 48.6875 27.296875 \r\nQ 48.6875 37.203125 44.609375 42.84375 \r\nQ 40.53125 48.484375 33.40625 48.484375 \r\nQ 26.265625 48.484375 22.1875 42.84375 \r\nQ 18.109375 37.203125 18.109375 27.296875 \r\nQ 18.109375 17.390625 22.1875 11.75 \r\nQ 26.265625 6.109375 33.40625 6.109375 \r\nQ 40.53125 6.109375 44.609375 11.75 \r\nQ 48.6875 17.390625 48.6875 27.296875 \r\nz\r\n\" id=\"DejaVuSans-112\"/>\r\n     <path d=\"M 64.40625 67.28125 \r\nL 64.40625 56.890625 \r\nQ 59.421875 61.53125 53.78125 63.8125 \r\nQ 48.140625 66.109375 41.796875 66.109375 \r\nQ 29.296875 66.109375 22.65625 58.46875 \r\nQ 16.015625 50.828125 16.015625 36.375 \r\nQ 16.015625 21.96875 22.65625 14.328125 \r\nQ 29.296875 6.6875 41.796875 6.6875 \r\nQ 48.140625 6.6875 53.78125 8.984375 \r\nQ 59.421875 11.28125 64.40625 15.921875 \r\nL 64.40625 5.609375 \r\nQ 59.234375 2.09375 53.4375 0.328125 \r\nQ 47.65625 -1.421875 41.21875 -1.421875 \r\nQ 24.65625 -1.421875 15.125 8.703125 \r\nQ 5.609375 18.84375 5.609375 36.375 \r\nQ 5.609375 53.953125 15.125 64.078125 \r\nQ 24.65625 74.21875 41.21875 74.21875 \r\nQ 47.75 74.21875 53.53125 72.484375 \r\nQ 59.328125 70.75 64.40625 67.28125 \r\nz\r\n\" id=\"DejaVuSans-67\"/>\r\n     <path d=\"M 39.40625 66.21875 \r\nQ 28.65625 66.21875 22.328125 58.203125 \r\nQ 16.015625 50.203125 16.015625 36.375 \r\nQ 16.015625 22.609375 22.328125 14.59375 \r\nQ 28.65625 6.59375 39.40625 6.59375 \r\nQ 50.140625 6.59375 56.421875 14.59375 \r\nQ 62.703125 22.609375 62.703125 36.375 \r\nQ 62.703125 50.203125 56.421875 58.203125 \r\nQ 50.140625 66.21875 39.40625 66.21875 \r\nz\r\nM 39.40625 74.21875 \r\nQ 54.734375 74.21875 63.90625 63.9375 \r\nQ 73.09375 53.65625 73.09375 36.375 \r\nQ 73.09375 19.140625 63.90625 8.859375 \r\nQ 54.734375 -1.421875 39.40625 -1.421875 \r\nQ 24.03125 -1.421875 14.8125 8.828125 \r\nQ 5.609375 19.09375 5.609375 36.375 \r\nQ 5.609375 53.65625 14.8125 63.9375 \r\nQ 24.03125 74.21875 39.40625 74.21875 \r\nz\r\n\" id=\"DejaVuSans-79\"/>\r\n     <path d=\"M 9.8125 72.90625 \r\nL 19.671875 72.90625 \r\nL 19.671875 0 \r\nL 9.8125 0 \r\nz\r\n\" id=\"DejaVuSans-73\"/>\r\n     <path d=\"M 19.671875 64.796875 \r\nL 19.671875 8.109375 \r\nL 31.59375 8.109375 \r\nQ 46.6875 8.109375 53.6875 14.9375 \r\nQ 60.6875 21.78125 60.6875 36.53125 \r\nQ 60.6875 51.171875 53.6875 57.984375 \r\nQ 46.6875 64.796875 31.59375 64.796875 \r\nz\r\nM 9.8125 72.90625 \r\nL 30.078125 72.90625 \r\nQ 51.265625 72.90625 61.171875 64.09375 \r\nQ 71.09375 55.28125 71.09375 36.53125 \r\nQ 71.09375 17.671875 61.125 8.828125 \r\nQ 51.171875 0 30.078125 0 \r\nL 9.8125 0 \r\nz\r\n\" id=\"DejaVuSans-68\"/>\r\n     <path d=\"M 4.890625 31.390625 \r\nL 31.203125 31.390625 \r\nL 31.203125 23.390625 \r\nL 4.890625 23.390625 \r\nz\r\n\" id=\"DejaVuSans-45\"/>\r\n    </defs>\r\n    <g transform=\"translate(12.315938 16.318125)scale(0.12 -0.12)\">\r\n     <use xlink:href=\"#DejaVuSans-78\"/>\r\n     <use x=\"74.804688\" xlink:href=\"#DejaVuSans-117\"/>\r\n     <use x=\"138.183594\" xlink:href=\"#DejaVuSans-109\"/>\r\n     <use x=\"235.595703\" xlink:href=\"#DejaVuSans-98\"/>\r\n     <use x=\"299.072266\" xlink:href=\"#DejaVuSans-101\"/>\r\n     <use x=\"360.595703\" xlink:href=\"#DejaVuSans-114\"/>\r\n     <use x=\"401.708984\" xlink:href=\"#DejaVuSans-32\"/>\r\n     <use x=\"433.496094\" xlink:href=\"#DejaVuSans-111\"/>\r\n     <use x=\"494.677734\" xlink:href=\"#DejaVuSans-102\"/>\r\n     <use x=\"529.882812\" xlink:href=\"#DejaVuSans-32\"/>\r\n     <use x=\"561.669922\" xlink:href=\"#DejaVuSans-65\"/>\r\n     <use x=\"630.078125\" xlink:href=\"#DejaVuSans-114\"/>\r\n     <use x=\"671.191406\" xlink:href=\"#DejaVuSans-116\"/>\r\n     <use x=\"710.400391\" xlink:href=\"#DejaVuSans-105\"/>\r\n     <use x=\"738.183594\" xlink:href=\"#DejaVuSans-99\"/>\r\n     <use x=\"793.164062\" xlink:href=\"#DejaVuSans-108\"/>\r\n     <use x=\"820.947266\" xlink:href=\"#DejaVuSans-101\"/>\r\n     <use x=\"882.470703\" xlink:href=\"#DejaVuSans-115\"/>\r\n     <use x=\"934.570312\" xlink:href=\"#DejaVuSans-32\"/>\r\n     <use x=\"966.357422\" xlink:href=\"#DejaVuSans-97\"/>\r\n     <use x=\"1027.636719\" xlink:href=\"#DejaVuSans-110\"/>\r\n     <use x=\"1091.015625\" xlink:href=\"#DejaVuSans-100\"/>\r\n     <use x=\"1154.492188\" xlink:href=\"#DejaVuSans-32\"/>\r\n     <use x=\"1186.279297\" xlink:href=\"#DejaVuSans-72\"/>\r\n     <use x=\"1261.474609\" xlink:href=\"#DejaVuSans-111\"/>\r\n     <use x=\"1322.65625\" xlink:href=\"#DejaVuSans-119\"/>\r\n     <use x=\"1404.443359\" xlink:href=\"#DejaVuSans-32\"/>\r\n     <use x=\"1436.230469\" xlink:href=\"#DejaVuSans-84\"/>\r\n     <use x=\"1497.314453\" xlink:href=\"#DejaVuSans-104\"/>\r\n     <use x=\"1560.693359\" xlink:href=\"#DejaVuSans-101\"/>\r\n     <use x=\"1622.216797\" xlink:href=\"#DejaVuSans-121\"/>\r\n     <use x=\"1681.396484\" xlink:href=\"#DejaVuSans-32\"/>\r\n     <use x=\"1713.183594\" xlink:href=\"#DejaVuSans-82\"/>\r\n     <use x=\"1782.603516\" xlink:href=\"#DejaVuSans-101\"/>\r\n     <use x=\"1844.126953\" xlink:href=\"#DejaVuSans-108\"/>\r\n     <use x=\"1871.910156\" xlink:href=\"#DejaVuSans-97\"/>\r\n     <use x=\"1933.189453\" xlink:href=\"#DejaVuSans-116\"/>\r\n     <use x=\"1972.398438\" xlink:href=\"#DejaVuSans-101\"/>\r\n     <use x=\"2033.921875\" xlink:href=\"#DejaVuSans-32\"/>\r\n     <use x=\"2065.708984\" xlink:href=\"#DejaVuSans-116\"/>\r\n     <use x=\"2104.917969\" xlink:href=\"#DejaVuSans-111\"/>\r\n     <use x=\"2166.099609\" xlink:href=\"#DejaVuSans-32\"/>\r\n     <use x=\"2197.886719\" xlink:href=\"#DejaVuSans-86\"/>\r\n     <use x=\"2266.185547\" xlink:href=\"#DejaVuSans-97\"/>\r\n     <use x=\"2327.464844\" xlink:href=\"#DejaVuSans-99\"/>\r\n     <use x=\"2382.445312\" xlink:href=\"#DejaVuSans-99\"/>\r\n     <use x=\"2437.425781\" xlink:href=\"#DejaVuSans-105\"/>\r\n     <use x=\"2465.208984\" xlink:href=\"#DejaVuSans-110\"/>\r\n     <use x=\"2528.587891\" xlink:href=\"#DejaVuSans-101\"/>\r\n     <use x=\"2590.111328\" xlink:href=\"#DejaVuSans-115\"/>\r\n     <use x=\"2642.210938\" xlink:href=\"#DejaVuSans-32\"/>\r\n     <use x=\"2673.998047\" xlink:href=\"#DejaVuSans-97\"/>\r\n     <use x=\"2735.277344\" xlink:href=\"#DejaVuSans-110\"/>\r\n     <use x=\"2798.65625\" xlink:href=\"#DejaVuSans-100\"/>\r\n     <use x=\"2862.132812\" xlink:href=\"#DejaVuSans-32\"/>\r\n     <use x=\"2893.919922\" xlink:href=\"#DejaVuSans-84\"/>\r\n     <use x=\"2955.003906\" xlink:href=\"#DejaVuSans-104\"/>\r\n     <use x=\"3018.382812\" xlink:href=\"#DejaVuSans-101\"/>\r\n     <use x=\"3079.90625\" xlink:href=\"#DejaVuSans-114\"/>\r\n     <use x=\"3121.019531\" xlink:href=\"#DejaVuSans-97\"/>\r\n     <use x=\"3182.298828\" xlink:href=\"#DejaVuSans-112\"/>\r\n     <use x=\"3245.775391\" xlink:href=\"#DejaVuSans-101\"/>\r\n     <use x=\"3307.298828\" xlink:href=\"#DejaVuSans-117\"/>\r\n     <use x=\"3370.677734\" xlink:href=\"#DejaVuSans-116\"/>\r\n     <use x=\"3409.886719\" xlink:href=\"#DejaVuSans-105\"/>\r\n     <use x=\"3437.669922\" xlink:href=\"#DejaVuSans-99\"/>\r\n     <use x=\"3492.650391\" xlink:href=\"#DejaVuSans-115\"/>\r\n     <use x=\"3544.75\" xlink:href=\"#DejaVuSans-32\"/>\r\n     <use x=\"3576.537109\" xlink:href=\"#DejaVuSans-111\"/>\r\n     <use x=\"3637.71875\" xlink:href=\"#DejaVuSans-102\"/>\r\n     <use x=\"3672.923828\" xlink:href=\"#DejaVuSans-32\"/>\r\n     <use x=\"3704.710938\" xlink:href=\"#DejaVuSans-67\"/>\r\n     <use x=\"3774.535156\" xlink:href=\"#DejaVuSans-79\"/>\r\n     <use x=\"3853.230469\" xlink:href=\"#DejaVuSans-86\"/>\r\n     <use x=\"3921.638672\" xlink:href=\"#DejaVuSans-73\"/>\r\n     <use x=\"3951.130859\" xlink:href=\"#DejaVuSans-68\"/>\r\n     <use x=\"4028.132812\" xlink:href=\"#DejaVuSans-45\"/>\r\n     <use x=\"4064.216797\" xlink:href=\"#DejaVuSans-49\"/>\r\n     <use x=\"4127.839844\" xlink:href=\"#DejaVuSans-57\"/>\r\n    </g>\r\n   </g>\r\n   <g id=\"legend_1\">\r\n    <g id=\"patch_13\">\r\n     <path d=\"M 419.790625 44.99625 \r\nL 480.003125 44.99625 \r\nQ 482.003125 44.99625 482.003125 42.99625 \r\nL 482.003125 29.318125 \r\nQ 482.003125 27.318125 480.003125 27.318125 \r\nL 419.790625 27.318125 \r\nQ 417.790625 27.318125 417.790625 29.318125 \r\nL 417.790625 42.99625 \r\nQ 417.790625 44.99625 419.790625 44.99625 \r\nz\r\n\" style=\"fill:#ffffff;opacity:0.8;stroke:#cccccc;stroke-linejoin:miter;\"/>\r\n    </g>\r\n    <g id=\"patch_14\">\r\n     <path d=\"M 421.790625 38.916562 \r\nL 441.790625 38.916562 \r\nL 441.790625 31.916562 \r\nL 421.790625 31.916562 \r\nz\r\n\" style=\"fill:#0000ff;\"/>\r\n    </g>\r\n    <g id=\"text_18\">\r\n     <!-- count -->\r\n     <g transform=\"translate(449.790625 38.916562)scale(0.1 -0.1)\">\r\n      <use xlink:href=\"#DejaVuSans-99\"/>\r\n      <use x=\"54.980469\" xlink:href=\"#DejaVuSans-111\"/>\r\n      <use x=\"116.162109\" xlink:href=\"#DejaVuSans-117\"/>\r\n      <use x=\"179.541016\" xlink:href=\"#DejaVuSans-110\"/>\r\n      <use x=\"242.919922\" xlink:href=\"#DejaVuSans-116\"/>\r\n     </g>\r\n    </g>\r\n   </g>\r\n  </g>\r\n </g>\r\n <defs>\r\n  <clipPath id=\"pb1f69690a1\">\r\n   <rect height=\"434.88\" width=\"446.4\" x=\"40.603125\" y=\"22.318125\"/>\r\n  </clipPath>\r\n </defs>\r\n</svg>\r\n",
      "image/png": "[encoded data removed]"
     },
     "metadata": {
      "needs_background": "light"
     }
    }
   ],
   "source": [
    "#creates plot for Task 1\n",
    "Task1df = pd.DataFrame(Counttask1.most_common()[-6:], columns=['percent', 'count'])\n",
    "fig, ax = plt.subplots(figsize=(8, 8))\n",
    "Task1df.sort_values(by='percent').plot.bar(x='percent',y='count', ax=ax, color=\"blue\")\n",
    "plt.xlabel('Percent Matched to Task', color = 'black')\n",
    "plt.ylabel('Number of Articles', color = 'black')\n",
    "plt.xticks(color = 'black')\n",
    "plt.yticks(color = 'black')\n",
    "plt.title('Number of Articles and How They Relate to Vaccines and Therapeutics of COVID-19', color = 'black')\n",
    "#Transmissions, Incubation, and Environmental Stability of COVID-19\n",
    "plt.show()"
   ]
  },
  {
   "cell_type": "markdown",
   "metadata": {},
   "source": [
    "Task1best = Ab_ids.loc[Ab_ids['Task 1 percent'] == 66.7]\n",
    "Task1best.reset_index(drop=True,inplace=True)\n",
    "Task1best.iloc[0]['abstract']"
   ]
  },
  {
   "cell_type": "markdown",
   "metadata": {},
   "source": []
  },
  {
   "cell_type": "markdown",
   "metadata": {},
   "source": [
    "#creates plot for Task 1\n",
    "Task1df = pd.DataFrame(Ab_ids, columns=['Ethical and social science considerations', 'Addition'])\n",
    "fig, ax = plt.subplots(figsize=(8, 8))\n",
    "Task1df.sort_values(by='Addition').plot.scatter(x='Addition',y='Ethical and social science considerations', ax=ax, color=\"blue\")\n",
    "plt.xlabel('Correlation score with Covid-19', color = 'black')\n",
    "plt.ylabel('Percent Article correlates with Risk Factors', color = 'black')\n",
    "plt.xticks(color = 'black')\n",
    "plt.yticks(color = 'black')\n",
    "plt.title('Number of Articles and How They Relate to Risk Factors of COVID-19', color = 'black')\n",
    "#Transmissions, Incubation, and Environmental Stability of COVID-19\n",
    "plt.show()"
   ]
  }
 ],
 "metadata": {
  "kernelspec": {
   "display_name": "Python 3",
   "language": "python",
   "name": "python3"
  },
  "language_info": {
   "codemirror_mode": {
    "name": "ipython",
    "version": 3
   },
   "file_extension": ".py",
   "mimetype": "text/x-python",
   "name": "python",
   "nbconvert_exporter": "python",
   "pygments_lexer": "ipython3",
   "version": "3.7.6-final"
  }
 },
 "nbformat": 4,
 "nbformat_minor": 4
}