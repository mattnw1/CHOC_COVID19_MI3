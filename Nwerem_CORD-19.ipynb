{
 "cells": [
  {
   "cell_type": "code",
   "execution_count": 1,
   "metadata": {},
   "outputs": [],
   "source": [
    "import numpy as np\n",
    "import pandas as pd\n",
    "import nltk\n",
    "import re\n",
    "import pyspark"
   ]
  },
  {
   "cell_type": "code",
   "execution_count": 2,
   "metadata": {
    "tags": []
   },
   "outputs": [],
   "source": [
    "df =  pd.read_csv(\"/Users/MattNwerem/Downloads/COVID_Kaggle_CORD-19/metadata.csv\")"
   ]
  },
  {
   "cell_type": "code",
   "execution_count": 6,
   "metadata": {},
   "outputs": [
    {
     "output_type": "error",
     "ename": "AttributeError",
     "evalue": "'DataFrame' object has no attribute 'value_counts'",
     "traceback": [
      "\u001b[0;31m---------------------------------------------------------------------------\u001b[0m",
      "\u001b[0;31mAttributeError\u001b[0m                            Traceback (most recent call last)",
      "\u001b[0;32m<ipython-input-6-986e25863b45>\u001b[0m in \u001b[0;36m<module>\u001b[0;34m\u001b[0m\n\u001b[0;32m----> 1\u001b[0;31m \u001b[0mdf\u001b[0m\u001b[0;34m.\u001b[0m\u001b[0mvalue_counts\u001b[0m\u001b[0;34m(\u001b[0m\u001b[0;34m)\u001b[0m\u001b[0;34m\u001b[0m\u001b[0;34m\u001b[0m\u001b[0m\n\u001b[0m",
      "\u001b[0;32m/Library/Frameworks/Python.framework/Versions/3.6/lib/python3.6/site-packages/pandas/core/generic.py\u001b[0m in \u001b[0;36m__getattr__\u001b[0;34m(self, name)\u001b[0m\n\u001b[1;32m   5272\u001b[0m             \u001b[0;32mif\u001b[0m \u001b[0mself\u001b[0m\u001b[0;34m.\u001b[0m\u001b[0m_info_axis\u001b[0m\u001b[0;34m.\u001b[0m\u001b[0m_can_hold_identifiers_and_holds_name\u001b[0m\u001b[0;34m(\u001b[0m\u001b[0mname\u001b[0m\u001b[0;34m)\u001b[0m\u001b[0;34m:\u001b[0m\u001b[0;34m\u001b[0m\u001b[0;34m\u001b[0m\u001b[0m\n\u001b[1;32m   5273\u001b[0m                 \u001b[0;32mreturn\u001b[0m \u001b[0mself\u001b[0m\u001b[0;34m[\u001b[0m\u001b[0mname\u001b[0m\u001b[0;34m]\u001b[0m\u001b[0;34m\u001b[0m\u001b[0;34m\u001b[0m\u001b[0m\n\u001b[0;32m-> 5274\u001b[0;31m             \u001b[0;32mreturn\u001b[0m \u001b[0mobject\u001b[0m\u001b[0;34m.\u001b[0m\u001b[0m__getattribute__\u001b[0m\u001b[0;34m(\u001b[0m\u001b[0mself\u001b[0m\u001b[0;34m,\u001b[0m \u001b[0mname\u001b[0m\u001b[0;34m)\u001b[0m\u001b[0;34m\u001b[0m\u001b[0;34m\u001b[0m\u001b[0m\n\u001b[0m\u001b[1;32m   5275\u001b[0m \u001b[0;34m\u001b[0m\u001b[0m\n\u001b[1;32m   5276\u001b[0m     \u001b[0;32mdef\u001b[0m \u001b[0m__setattr__\u001b[0m\u001b[0;34m(\u001b[0m\u001b[0mself\u001b[0m\u001b[0;34m,\u001b[0m \u001b[0mname\u001b[0m\u001b[0;34m:\u001b[0m \u001b[0mstr\u001b[0m\u001b[0;34m,\u001b[0m \u001b[0mvalue\u001b[0m\u001b[0;34m)\u001b[0m \u001b[0;34m->\u001b[0m \u001b[0;32mNone\u001b[0m\u001b[0;34m:\u001b[0m\u001b[0;34m\u001b[0m\u001b[0;34m\u001b[0m\u001b[0m\n",
      "\u001b[0;31mAttributeError\u001b[0m: 'DataFrame' object has no attribute 'value_counts'"
     ]
    }
   ],
   "source": [
    "df.value_counts()"
   ]
  },
  {
   "cell_type": "code",
   "execution_count": 7,
   "metadata": {},
   "outputs": [
    {
     "output_type": "execute_result",
     "data": {
      "text/plain": "   cord_uid                                       sha source_x  \\\n0  ug7v899j  d1aafb70c066a2068b02786f8929fd9c900897fb      PMC   \n1  02tnwd4m  6b0567729c2143a66d737eb0a2f63f2dce2e5a7d      PMC   \n2  ejv2xln0  06ced00a5fc04215949aa72528f2eeaae1d58927      PMC   \n3  2b73a28n  348055649b6b8cf2b9a376498df9bf41f7123605      PMC   \n4  9785vg6d  5f48792a5fa08bed9f56016f4981ae2ca6031b32      PMC   \n\n                                               title                    doi  \\\n0  Clinical features of culture-proven Mycoplasma...  10.1186/1471-2334-1-6   \n1  Nitric oxide: a pro-inflammatory mediator in l...           10.1186/rr14   \n2    Surfactant protein-D and pulmonary host defense           10.1186/rr19   \n3               Role of endothelin-1 in lung disease           10.1186/rr44   \n4  Gene expression in epithelial cells in respons...           10.1186/rr61   \n\n      pmcid   pubmed_id license  \\\n0  PMC35282  11472636.0   no-cc   \n1  PMC59543  11667967.0   no-cc   \n2  PMC59549  11667972.0   no-cc   \n3  PMC59574  11686871.0   no-cc   \n4  PMC59580  11686888.0   no-cc   \n\n                                            abstract publish_time  \\\n0  OBJECTIVE: This retrospective chart review des...   2001-07-04   \n1  Inflammatory diseases of the respiratory tract...   2000-08-15   \n2  Surfactant protein-D (SP-D) participates in th...   2000-08-25   \n3  Endothelin-1 (ET-1) is a 21 amino acid peptide...   2001-02-22   \n4  Respiratory syncytial virus (RSV) and pneumoni...   2001-05-11   \n\n                                             authors         journal  mag_id  \\\n0                Madani, Tariq A; Al-Ghamdi, Aisha A  BMC Infect Dis     NaN   \n1  Vliet, Albert van der; Eiserich, Jason P; Cros...      Respir Res     NaN   \n2                                    Crouch, Erika C      Respir Res     NaN   \n3  Fagan, Karen A; McMurtry, Ivan F; Rodman, David M      Respir Res     NaN   \n4  Domachowske, Joseph B; Bonville, Cynthia A; Ro...      Respir Res     NaN   \n\n  who_covidence_id arxiv_id  \\\n0              NaN      NaN   \n1              NaN      NaN   \n2              NaN      NaN   \n3              NaN      NaN   \n4              NaN      NaN   \n\n                                      pdf_json_files  \\\n0  document_parses/pdf_json/d1aafb70c066a2068b027...   \n1  document_parses/pdf_json/6b0567729c2143a66d737...   \n2  document_parses/pdf_json/06ced00a5fc04215949aa...   \n3  document_parses/pdf_json/348055649b6b8cf2b9a37...   \n4  document_parses/pdf_json/5f48792a5fa08bed9f560...   \n\n                               pmc_json_files  \\\n0  document_parses/pmc_json/PMC35282.xml.json   \n1  document_parses/pmc_json/PMC59543.xml.json   \n2  document_parses/pmc_json/PMC59549.xml.json   \n3  document_parses/pmc_json/PMC59574.xml.json   \n4  document_parses/pmc_json/PMC59580.xml.json   \n\n                                                 url  s2_id  \n0  https://www.ncbi.nlm.nih.gov/pmc/articles/PMC3...    NaN  \n1  https://www.ncbi.nlm.nih.gov/pmc/articles/PMC5...    NaN  \n2  https://www.ncbi.nlm.nih.gov/pmc/articles/PMC5...    NaN  \n3  https://www.ncbi.nlm.nih.gov/pmc/articles/PMC5...    NaN  \n4  https://www.ncbi.nlm.nih.gov/pmc/articles/PMC5...    NaN  ",
      "text/html": "<div>\n<style scoped>\n    .dataframe tbody tr th:only-of-type {\n        vertical-align: middle;\n    }\n\n    .dataframe tbody tr th {\n        vertical-align: top;\n    }\n\n    .dataframe thead th {\n        text-align: right;\n    }\n</style>\n<table border=\"1\" class=\"dataframe\">\n  <thead>\n    <tr style=\"text-align: right;\">\n      <th></th>\n      <th>cord_uid</th>\n      <th>sha</th>\n      <th>source_x</th>\n      <th>title</th>\n      <th>doi</th>\n      <th>pmcid</th>\n      <th>pubmed_id</th>\n      <th>license</th>\n      <th>abstract</th>\n      <th>publish_time</th>\n      <th>authors</th>\n      <th>journal</th>\n      <th>mag_id</th>\n      <th>who_covidence_id</th>\n      <th>arxiv_id</th>\n      <th>pdf_json_files</th>\n      <th>pmc_json_files</th>\n      <th>url</th>\n      <th>s2_id</th>\n    </tr>\n  </thead>\n  <tbody>\n    <tr>\n      <th>0</th>\n      <td>ug7v899j</td>\n      <td>d1aafb70c066a2068b02786f8929fd9c900897fb</td>\n      <td>PMC</td>\n      <td>Clinical features of culture-proven Mycoplasma...</td>\n      <td>10.1186/1471-2334-1-6</td>\n      <td>PMC35282</td>\n      <td>11472636.0</td>\n      <td>no-cc</td>\n      <td>OBJECTIVE: This retrospective chart review des...</td>\n      <td>2001-07-04</td>\n      <td>Madani, Tariq A; Al-Ghamdi, Aisha A</td>\n      <td>BMC Infect Dis</td>\n      <td>NaN</td>\n      <td>NaN</td>\n      <td>NaN</td>\n      <td>document_parses/pdf_json/d1aafb70c066a2068b027...</td>\n      <td>document_parses/pmc_json/PMC35282.xml.json</td>\n      <td>https://www.ncbi.nlm.nih.gov/pmc/articles/PMC3...</td>\n      <td>NaN</td>\n    </tr>\n    <tr>\n      <th>1</th>\n      <td>02tnwd4m</td>\n      <td>6b0567729c2143a66d737eb0a2f63f2dce2e5a7d</td>\n      <td>PMC</td>\n      <td>Nitric oxide: a pro-inflammatory mediator in l...</td>\n      <td>10.1186/rr14</td>\n      <td>PMC59543</td>\n      <td>11667967.0</td>\n      <td>no-cc</td>\n      <td>Inflammatory diseases of the respiratory tract...</td>\n      <td>2000-08-15</td>\n      <td>Vliet, Albert van der; Eiserich, Jason P; Cros...</td>\n      <td>Respir Res</td>\n      <td>NaN</td>\n      <td>NaN</td>\n      <td>NaN</td>\n      <td>document_parses/pdf_json/6b0567729c2143a66d737...</td>\n      <td>document_parses/pmc_json/PMC59543.xml.json</td>\n      <td>https://www.ncbi.nlm.nih.gov/pmc/articles/PMC5...</td>\n      <td>NaN</td>\n    </tr>\n    <tr>\n      <th>2</th>\n      <td>ejv2xln0</td>\n      <td>06ced00a5fc04215949aa72528f2eeaae1d58927</td>\n      <td>PMC</td>\n      <td>Surfactant protein-D and pulmonary host defense</td>\n      <td>10.1186/rr19</td>\n      <td>PMC59549</td>\n      <td>11667972.0</td>\n      <td>no-cc</td>\n      <td>Surfactant protein-D (SP-D) participates in th...</td>\n      <td>2000-08-25</td>\n      <td>Crouch, Erika C</td>\n      <td>Respir Res</td>\n      <td>NaN</td>\n      <td>NaN</td>\n      <td>NaN</td>\n      <td>document_parses/pdf_json/06ced00a5fc04215949aa...</td>\n      <td>document_parses/pmc_json/PMC59549.xml.json</td>\n      <td>https://www.ncbi.nlm.nih.gov/pmc/articles/PMC5...</td>\n      <td>NaN</td>\n    </tr>\n    <tr>\n      <th>3</th>\n      <td>2b73a28n</td>\n      <td>348055649b6b8cf2b9a376498df9bf41f7123605</td>\n      <td>PMC</td>\n      <td>Role of endothelin-1 in lung disease</td>\n      <td>10.1186/rr44</td>\n      <td>PMC59574</td>\n      <td>11686871.0</td>\n      <td>no-cc</td>\n      <td>Endothelin-1 (ET-1) is a 21 amino acid peptide...</td>\n      <td>2001-02-22</td>\n      <td>Fagan, Karen A; McMurtry, Ivan F; Rodman, David M</td>\n      <td>Respir Res</td>\n      <td>NaN</td>\n      <td>NaN</td>\n      <td>NaN</td>\n      <td>document_parses/pdf_json/348055649b6b8cf2b9a37...</td>\n      <td>document_parses/pmc_json/PMC59574.xml.json</td>\n      <td>https://www.ncbi.nlm.nih.gov/pmc/articles/PMC5...</td>\n      <td>NaN</td>\n    </tr>\n    <tr>\n      <th>4</th>\n      <td>9785vg6d</td>\n      <td>5f48792a5fa08bed9f56016f4981ae2ca6031b32</td>\n      <td>PMC</td>\n      <td>Gene expression in epithelial cells in respons...</td>\n      <td>10.1186/rr61</td>\n      <td>PMC59580</td>\n      <td>11686888.0</td>\n      <td>no-cc</td>\n      <td>Respiratory syncytial virus (RSV) and pneumoni...</td>\n      <td>2001-05-11</td>\n      <td>Domachowske, Joseph B; Bonville, Cynthia A; Ro...</td>\n      <td>Respir Res</td>\n      <td>NaN</td>\n      <td>NaN</td>\n      <td>NaN</td>\n      <td>document_parses/pdf_json/5f48792a5fa08bed9f560...</td>\n      <td>document_parses/pmc_json/PMC59580.xml.json</td>\n      <td>https://www.ncbi.nlm.nih.gov/pmc/articles/PMC5...</td>\n      <td>NaN</td>\n    </tr>\n  </tbody>\n</table>\n</div>"
     },
     "metadata": {},
     "execution_count": 7
    }
   ],
   "source": [
    "df.head(5)"
   ]
  },
  {
   "cell_type": "code",
   "execution_count": 63,
   "metadata": {},
   "outputs": [
    {
     "output_type": "execute_result",
     "data": {
      "text/plain": "'OBJECTIVE: This retrospective chart review describes the epidemiology and clinical features of 40 patients with culture-proven Mycoplasma pneumoniae infections at King Abdulaziz University Hospital, Jeddah, Saudi Arabia. METHODS: Patients with positive M. pneumoniae cultures from respiratory specimens from January 1997 through December 1998 were identified through the Microbiology records. Charts of patients were reviewed. RESULTS: 40 patients were identified, 33 (82.5%) of whom required admission. Most infections (92.5%) were community-acquired. The infection affected all age groups but was most common in infants (32.5%) and pre-school children (22.5%). It occurred year-round but was most common in the fall (35%) and spring (30%). More than three-quarters of patients (77.5%) had comorbidities. Twenty-four isolates (60%) were associated with pneumonia, 14 (35%) with upper respiratory tract infections, and 2 (5%) with bronchiolitis. Cough (82.5%), fever (75%), and malaise (58.8%) were the most common symptoms, and crepitations (60%), and wheezes (40%) were the most common signs. Most patients with pneumonia had crepitations (79.2%) but only 25% had bronchial breathing. Immunocompromised patients were more likely than non-immunocompromised patients to present with pneumonia (8/9 versus 16/31, P = 0.05). Of the 24 patients with pneumonia, 14 (58.3%) had uneventful recovery, 4 (16.7%) recovered following some complications, 3 (12.5%) died because of M pneumoniae infection, and 3 (12.5%) died due to underlying comorbidities. The 3 patients who died of M pneumoniae pneumonia had other comorbidities. CONCLUSION: our results were similar to published data except for the finding that infections were more common in infants and preschool children and that the mortality rate of pneumonia in patients with comorbidities was high.'"
     },
     "metadata": {},
     "execution_count": 63
    }
   ],
   "source": [
    "df[\"abstract\"][0] #test"
   ]
  },
  {
   "cell_type": "code",
   "execution_count": 64,
   "metadata": {},
   "outputs": [
    {
     "output_type": "execute_result",
     "data": {
      "text/plain": "'Inflammatory diseases of the respiratory tract are commonly associated with elevated production of nitric oxide (NO•) and increased indices of NO• -dependent oxidative stress. Although NO• is known to have anti-microbial, anti-inflammatory and anti-oxidant properties, various lines of evidence support the contribution of NO• to lung injury in several disease models. On the basis of biochemical evidence, it is often presumed that such NO• -dependent oxidations are due to the formation of the oxidant peroxynitrite, although alternative mechanisms involving the phagocyte-derived heme proteins myeloperoxidase and eosinophil peroxidase might be operative during conditions of inflammation. Because of the overwhelming literature on NO• generation and activities in the respiratory tract, it would be beyond the scope of this commentary to review this area comprehensively. Instead, it focuses on recent evidence and concepts of the presumed contribution of NO• to inflammatory diseases of the lung.'"
     },
     "metadata": {},
     "execution_count": 64
    }
   ],
   "source": [
    "df[\"abstract\"][1] #test"
   ]
  },
  {
   "cell_type": "code",
   "execution_count": 9,
   "metadata": {
    "tags": []
   },
   "outputs": [
    {
     "output_type": "error",
     "ename": "TypeError",
     "evalue": "object of type 'float' has no len()",
     "traceback": [
      "\u001b[0;31m---------------------------------------------------------------------------\u001b[0m",
      "\u001b[0;31mTypeError\u001b[0m                                 Traceback (most recent call last)",
      "\u001b[0;32m<ipython-input-9-feee0793a3f2>\u001b[0m in \u001b[0;36m<module>\u001b[0;34m\u001b[0m\n\u001b[1;32m      3\u001b[0m \u001b[0;32mfor\u001b[0m \u001b[0mindex\u001b[0m \u001b[0;32min\u001b[0m \u001b[0mdf\u001b[0m\u001b[0;34m[\u001b[0m\u001b[0;34m\"abstract\"\u001b[0m\u001b[0;34m]\u001b[0m\u001b[0;34m[\u001b[0m\u001b[0mix\u001b[0m\u001b[0;34m]\u001b[0m\u001b[0;34m:\u001b[0m\u001b[0;34m\u001b[0m\u001b[0;34m\u001b[0m\u001b[0m\n\u001b[1;32m      4\u001b[0m \u001b[0;34m\u001b[0m\u001b[0m\n\u001b[0;32m----> 5\u001b[0;31m     \u001b[0mtotal_index\u001b[0m\u001b[0;34m+=\u001b[0m\u001b[0;34m(\u001b[0m\u001b[0mlen\u001b[0m\u001b[0;34m(\u001b[0m\u001b[0mdf\u001b[0m\u001b[0;34m[\u001b[0m\u001b[0;34m\"abstract\"\u001b[0m\u001b[0;34m]\u001b[0m\u001b[0;34m[\u001b[0m\u001b[0mix\u001b[0m\u001b[0;34m]\u001b[0m\u001b[0;34m)\u001b[0m\u001b[0;34m)\u001b[0m\u001b[0;34m\u001b[0m\u001b[0;34m\u001b[0m\u001b[0m\n\u001b[0m\u001b[1;32m      6\u001b[0m     \u001b[0mix\u001b[0m\u001b[0;34m+=\u001b[0m\u001b[0;36m1\u001b[0m\u001b[0;34m\u001b[0m\u001b[0;34m\u001b[0m\u001b[0m\n\u001b[1;32m      7\u001b[0m \u001b[0mprint\u001b[0m\u001b[0;34m(\u001b[0m\u001b[0mtotal_index\u001b[0m\u001b[0;34m)\u001b[0m \u001b[0;31m#checking to see length of all the characters;\u001b[0m\u001b[0;34m\u001b[0m\u001b[0;34m\u001b[0m\u001b[0m\n",
      "\u001b[0;31mTypeError\u001b[0m: object of type 'float' has no len()"
     ]
    }
   ],
   "source": [
    "ix = 0\n",
    "total_index = 0\n",
    "for index in df[\"abstract\"][ix]:\n",
    "\n",
    "    total_index+=(len(df[\"abstract\"][ix]))\n",
    "    ix+=1\n",
    "print(total_index) #checking to see length of all the characters; \n",
    "# This number should be greater than the below action len(sentences) because sent_tokenize() will break up articles by sentence"
   ]
  },
  {
   "cell_type": "code",
   "execution_count": 10,
   "metadata": {
    "tags": []
   },
   "outputs": [
    {
     "output_type": "execute_result",
     "data": {
      "text/plain": "'\\ni = 0\\nfor s in df[\"abstract\"]:\\n    print(s)\\n    i+=1\\n    if(i == 5):\\n        break\\n'"
     },
     "metadata": {},
     "execution_count": 10
    }
   ],
   "source": [
    "#Testing what data looks like\n",
    "'''\n",
    "i = 0\n",
    "for s in df[\"abstract\"]:\n",
    "    print(s)\n",
    "    i+=1\n",
    "    if(i == 5):\n",
    "        break\n",
    "'''"
   ]
  },
  {
   "cell_type": "code",
   "execution_count": 11,
   "metadata": {},
   "outputs": [
    {
     "output_type": "execute_result",
     "data": {
      "text/plain": "cord_uid             object\nsha                  object\nsource_x             object\ntitle                object\ndoi                  object\npmcid                object\npubmed_id           float64\nlicense              object\nabstract             object\npublish_time         object\nauthors              object\njournal              object\nmag_id              float64\nwho_covidence_id     object\narxiv_id             object\npdf_json_files       object\npmc_json_files       object\nurl                  object\ns2_id               float64\ndtype: object"
     },
     "metadata": {},
     "execution_count": 11
    }
   ],
   "source": [
    "df.dtypes"
   ]
  },
  {
   "cell_type": "code",
   "execution_count": 12,
   "metadata": {},
   "outputs": [],
   "source": [
    "new_dtypes = {\"title\": str, \"abstract\": str} #these dtypes must be changed in order to use sent_tokenize()\n",
    "df = df.astype(new_dtypes)"
   ]
  },
  {
   "cell_type": "code",
   "execution_count": 13,
   "metadata": {
    "tags": []
   },
   "outputs": [
    {
     "output_type": "stream",
     "name": "stdout",
     "text": "cord_uid             object\nsha                  object\nsource_x             object\ntitle                object\ndoi                  object\npmcid                object\npubmed_id           float64\nlicense              object\nabstract             object\npublish_time         object\nauthors              object\njournal              object\nmag_id              float64\nwho_covidence_id     object\narxiv_id             object\npdf_json_files       object\npmc_json_files       object\nurl                  object\ns2_id               float64\ndtype: object\n"
    }
   ],
   "source": [
    "print(df.dtypes) #check to see if dtpypes changed"
   ]
  },
  {
   "cell_type": "code",
   "execution_count": 26,
   "metadata": {},
   "outputs": [],
   "source": [
    "from nltk.tokenize import sent_tokenize\n",
    "from nltk.tokenize import word_tokenize\n",
    "sentences = []\n",
    "words = []\n",
    "\n",
    "for s in df['abstract']:\n",
    "  replace = s.replace(\"[^a-zA-Z]\", \" \")\n",
    "  clean_sentence = replace.lower()\n",
    "\n",
    "  sentences.append(sent_tokenize(clean_sentence))\n",
    "  words.append(word_tokenize(clean_sentence))"
   ]
  },
  {
   "cell_type": "code",
   "execution_count": 72,
   "metadata": {},
   "outputs": [],
   "source": [
    "sentences = [y for x in sentences for y in x] ## literally all text from all articles"
   ]
  },
  {
   "cell_type": "code",
   "execution_count": 73,
   "metadata": {},
   "outputs": [
    {
     "output_type": "execute_result",
     "data": {
      "text/plain": "1040459"
     },
     "metadata": {},
     "execution_count": 73
    }
   ],
   "source": [
    "len(sentences)"
   ]
  },
  {
   "cell_type": "code",
   "execution_count": 74,
   "metadata": {},
   "outputs": [
    {
     "output_type": "execute_result",
     "data": {
      "text/plain": "l defenses of cells to prevent the zoonotic transmission of an endogenous retrovirus.',\n 'these studies suggest that human apobec3g-transgenic pigs will provide safer, perv-less xenotransplantation resources and that analogous cross-species apobec3-dependent restriction strategies may be useful for thwarting other endogenous as well as exogenous retrovirus infections.',\n 'background: in 2005 huge epizooty of h5n1 hpai occurred in russia.',\n 'it had been clear that territory of russia becoming endemic for h5n1 hpai.',\n 'in 2006 several outbreaks have occurred.',\n 'to develop new vaccines and antiviral therapies, animal models had to be investigated.',\n 'we choose highly pathogenic strain for these studies.',\n 'results: a/duck/tuva/01/06 belongs to quinghai-like group viruses.',\n 'molecular markers – cleavage site, k627 in pb2 characterize this virus as highly pathogenic.',\n 'this data was confirmed by direct pathogenic tests: ivpi = 3.0, mld(50 )= 1,4log10eid(50).',\n 'also molecular analysis showed sensivity of the virus to adamantanes and neuraminidase inhibitors.',\n 'serological analysis showed wide cross-reactivity of this virus with sera produced to h5n1 hpai viruses isolated earlier in south-east asia.',\n 'mean time to death of infected animals was 8,19+/-0,18 days.',\n 'first time acute delayed hemorrhagic syndrome was observed in mice lethal model.',\n 'hypercytokinemia was determined by elevated sera levels of ifn-gamma, il-6, il-10.',\n 'conclusion: assuming all obtained data we can conclude that basic model parameters were characterized and virus a/duck/tuva/01/06 can be used to evaluate anti-influenza vaccines and therapeutics.',\n 'predicting rna secondary structure is often the first step to determining the structure of rna.',\n 'prediction approaches have historically avoided searching for pseudoknots because of the extreme combinatorial and time complexity of the problem.',\n 'yet neglecting pseudoknots limits the utility of such approaches.',\n 'here, an algorithm utilizing structure mapping and thermodynamics is introduced for rna pseudoknot prediction that finds the minimum free energy and identifies information about the flexibility of the rna.',\n 'the heuristic approach takes advantage of the 5′ to 3′ folding direction of many biological rna molecules and is consistent with the hierarchical folding hypothesis and the contact order model.',\n 'mapping methods are used to build and analyze the folded structure for pseudoknots and to add important 3d structural considerations.',\n 'the program can predict some well known pseudoknot structures correctly.',\n 'the results of this study suggest that many functional rna sequences are optimized for proper folding.',\n 'they also suggest directions we can proceed in the future to achieve even better results.',\n 'arginine-rich cell-penetrating peptides (cpps) are promising transporters for intracellular delivery of antisense morpholino oligomers (pmo).',\n 'here, we determined the effect of l-arginine, d-arginine and non-α amino acids on cellular uptake, splice-correction activity, cellular toxicity and serum binding for 24 cpp−pmos.',\n 'insertion of 6-aminohexanoic acid (x) or β-alanine (b) residues into oligoarginine r(8) decreased the cellular uptake but increased the splice-correction activity of the resulting compound, with a greater increase for the sequences containing more x residues.',\n 'cellular toxicity was not observed for any of the conjugates up to 10 μm.',\n 'up to 60 μm, only the conjugates with ⩾ 5 xs exhibited time- and concentration-dependent toxicity.',\n 'substitution of l-arginine with d-arginine did not increase uptake or splice-correction activity.',\n 'high concentration of serum significantly decreased the uptake and splice-correction activity of oligoarginine conjugates, but had much less effect on the conjugates containing x or b. in summary, incorporation of x/b into oligoarginine enhanced the antisense activity and serum-binding profile of cpp−pmo.',\n 'toxicity of x/b-containing conjugates was affected by the number of xs, treatment time and concentration.',\n 'more active, stable and less toxic cpps can be designed by optimizing the position and number of r, d-r, x and b residues.',\n \"we've always wanted to save the world from the scourges of virus infection by developing better drugs and vaccines.\",\n 'but fully understanding the intricacies of virus-host interactions, the first step in achieving this goal, requires the ability to view the process on a grand scale.',\n 'the advent of high-throughput technologies, such as dna microarrays and mass spectrometry, provided the first opportunities to obtain such a view.',\n 'here we describe our efforts to use these tools to focus on the changes in cellular gene expression and protein abundance that occur in response to virus infection.',\n 'by examining these changes in a comprehensive manner, we have been able to discover exciting new insights into innate immunity, interferon and cytokine signaling, and the strategies used by viruses to overcome these cellular defenses.',\n 'functional genomics may yet save the world from killer viruses.',\n 'the synthesis and characterization of isotopomer tandem nucleic acid mass tag–peptide nucleic acid (tnt–pna) conjugates is described along with their use as electrospray ionisation-cleavable (esi-cleavable) hybridization probes for the detection and quantification of target dna sequences by electrospray ionisation tandem mass spectrometry (esi-ms/ms).',\n 'esi-cleavable peptide tnt isotopomers were introduced into pna oligonucleotide sequences in a total synthesis approach.',\n 'these conjugates were evaluated as hybridization probes for the detection and quantification of immobilized synthetic target dnas using esi-ms/ms.',\n 'in these experiments, the pna portion of the conjugate acts as a hybridization probe, whereas the peptide tnt is released in a collision-based process during the ionization of the probe conjugate in the electrospray ion source.',\n 'the cleaved tnt acts as a uniquely resolvable marker to identify and quantify a unique target dna sequence.',\n 'the method should be applicable to a wide variety of assays requiring highly multiplexed, quantitative dna/rna analysis, including gene expression monitoring, genetic profiling and the detection of pathogens.',\n 'aberrant expression of dna polymerase β, a key enzyme involved in base excision repair, leads to genetic instability and carcinogenesis.',\n 'pol β expression has been previously shown to be regulated at the level of transcription, but there is also evidence of post-transcriptional regulation, since rat transcripts undergo alternative polyadenylation, and the resulting 3′utr contain at least one regulatory element.',\n 'data presented here indicate that rna of the short 3′utr folds to form a strong secondary structure (hairpin).',\n 'its regulatory role was established utilizing a luciferase-based reporter system.',\n 'further studies led to the identification of a protein factor, which binds to this element—the anti-apoptotic, cytoskeleton-related protein hax-1.',\n 'the results of in vitro binding analysis indicate that the formation of the rna–protein complex is significantly impaired by disruption of the hairpin motif.',\n 'we demonstrate that hax-1 binds to pol β mrna exclusively in the form of a dimer.',\n 'biochemical analysis revealed the presence of hax-1 in mitochondria, but also in the nuclear matrix, which, along with its transcript-binding properties, suggests that hax-1 plays a role in post-transcriptional regulation of expression of pol β.',\n \"the 'global public good' (gpg) concept has gained increasing attention, in health as well as development circles.\",\n 'however, it has suffered in finding currency as a general tool for global resource mobilisation, and is at risk of being attached to almost anything promoting development.',\n 'this overstretches and devalues the validity and usefulness of the concept.',\n 'this paper first defines gpgs and describes the policy challenge that they pose.',\n 'second, it identifies two key areas, health r&d and communicable disease control, in which the gpg concept is clearly relevant and considers the extent to which it has been applied.',\n 'we point out that that, while there have been many new initiatives, it is not clear that additional resources from non-traditional sources have been forthcoming.',\n 'yet achieving this is, in effect, the entire purpose of applying the gpg concept in global health.',\n 'moreover, the proliferation of disease-specific programs associated with gpg reasoning has tended to promote vertical interventions at the expense of more general health sector strengthening.',\n 'third, we examine two major global health policy initiatives, the global fund against aids, tuberculosis and malaria (gfatm) and the bundling of long-standing international health goals in the form of millennium development goals (mdg), asking how the gpg perspective has contributed to defining objectives and strategies.',\n 'we conclude that both initiatives are best interpreted in the context of traditional development assistance and, one-world rhetoric aside, have little to do with the challenge posed by gpgs for health.',\n 'the paper concludes by considering how the gpg concept can be more effectively used to promote global health.',\n 'the development of paediatric intensive care has contributed to the improved survival of critically ill children.',\n 'physical and psychological sequelae and consequences for quality of life (qol) in survivors might be significant, as has been determined in adult intensive care unit (icu) survivors.',\n 'awareness of sequelae due to the original illness and its treatment may result in changes in treatment and support during and after the acute phase.',\n 'to determine the current knowledge on physical and psychological sequelae and the quality of life in survivors of paediatric intensive care, we undertook a computerised comprehensive search of online databases for studies reporting sequelae in survivors of paediatric intensive care.',\n 'studies reporting sequelae in paediatric survivors of cardiothoracic surgery and trauma were excluded, as were studies reporting only mortality.',\n 'all other studies reporting aspects of physical and psychological sequelae were analysed.',\n 'twenty-seven studies consisting of 3,444 survivors met the selection criteria.',\n 'distinct physical and psychological sequelae in patients have been determined and seemed to interfere with quality of life.',\n 'psychological sequelae in parents seem to be common.',\n 'small numbers, methodological limitations and quantitative and qualitative heterogeneity hamper the interpretation of data.',\n 'we conclude that paediatric intensive care survivors and their parents have physical and psychological sequelae affecting quality of life.',\n 'further well-designed prospective studies evaluating sequelae of the original illness and its treatment are warranted.',\n 'background: with the development of new technology, it has recently become practical to resequence the genome of a bacterium after experimental manipulation.',\n 'it is critical though to know the accuracy of the technique used, and to establish confidence that all of the mutations were detected.',\n 'results: in order to evaluate the accuracy of genome resequencing using the microarray-based comparative genome sequencing service provided by nimblegen systems inc., we resequenced the e. coli strain w3110 kohara using mg1655 as a reference, both of which have been completely sequenced using traditional sequencing methods.',\n 'cgs detected 7 of 8 small sequence differences, one large deletion, and 9 of 12 is element insertions present in w3110, but did not detect a large chromosomal inversion.',\n 'in addition, we confirmed that cgs also detected 2 snps, one deletion and 7 is element insertions that are not present in the genome sequence, which we attribute to changes that occurred after the creation of the w3110 lambda clone library.',\n 'the false positive rate for snps was one per 244 kb of genome sequence.',\n 'conclusion: cgs is an effective way to detect multiple mutations present in one bacterium relative to another, and while highly cost-effective, is prone to certain errors.',\n 'mutations occurring in repeated sequences or in sequences with a high degree of secondary structure may go undetected.',\n 'it is also critical to follow up on regions of interest in which snps were not called because they often indicate deletions or is element insertions.',\n 'the authors discuss humoral immune responses to hiv and approaches to designing vaccines that induce viral neutralizing and other potentially protective antibodies.',\n 'background: despite the seriousness of dengue-related disease, with an estimated 50–100 million cases of dengue fever and 250,000–500,000 cases of dengue hemorrhagic fever/dengue shock syndrome each year, a clear understanding of dengue pathogenesis remains elusive.',\n 'because of the lack of a disease model in animals and the complex immune interaction in dengue infection, the study of host response and immunopathogenesis is difficult.',\n 'the development of genomics technology, microarray and high throughput quantitative pcr have allowed researchers to study gene expression changes on a much broader scale.',\n 'we therefore used this approach to investigate the host response in dengue virus-infected cell lines and in patients developing dengue fever.',\n 'methodology/principal findings: using microarray and high throughput quantitative pcr method to monitor the host response to dengue viral replication in cell line infection models and in dengue patient blood samples, we identified differentially expressed genes along three major pathways; nf-κb initiated immune responses, type i interferon (ifn) and the ubiquitin proteasome pathway.',\n 'among the most highly upregulated genes were the chemokines ip-10 and i-tac, both ligands of the cxcr3 receptor.',\n 'increased expression of ip-10 and i-tac in the peripheral blood of ten patients at the early onset of fever was confirmed by elisa.',\n 'a highly upregulated gene in the ifn pathway, viperin, was overexpressed in a549 cells resulting in a significant reduction in viral replication.',\n 'the upregulation of genes in the ubiquitin-proteasome pathway prompted the testing of proteasome inhibitors mg-132 and alln, both of which reduced viral replication.',\n 'conclusion/significance: unbiased gene expression analysis has identified new host genes associated with dengue infection, which we have validated in functional studies.',\n 'we showed that some parts of the host response can be used as potential biomarkers for the disease while others can be used to control dengue viral replication, thus representing viable targets for drug therapy.',\n 'background: although the impact of pathogens on the evolution of the mammalian immune system is still under debate, proteins, which both regulate immune responses and serve as cellular receptors for pathogens should be at the forefront of pathogen-driven host evolution.',\n 'the cea (carcinoembryonic antigen) gene family codes for such proteins and indeed shows tremendous species-specific variation between human and rodents.',\n 'since little is known about the cea gene family in other lineages of placental mammals, we expected to gain new insights into the evolution of the rapidly diverging cea family by analyzing the cea family of the dog.',\n 'results: here we describe the complete cea gene family in the dog.',\n 'we found that the gene coding for the itim-bearing immunoregulatory molecule ceacam1 gave rise to a recent expansion of the canine cea gene family by gene duplication, similar to that previously found in humans and mice.',\n 'however, while the murine and human ceacams (carcinoembryonic antigen-related cell adhesion molecules) are predominantly secreted and gpi-anchored, respectively, in the dog, most of the ceacams represent itam-bearing transmembrane proteins.',\n 'one of these proteins, ceacam28, exhibits nearly complete sequence identity with the ligand-binding n domain of ceacam1, but antagonizing signaling motifs in the cytoplasmic tail.',\n 'comparison of nonsynonymous and synonymous substitutions indicates that the ceacam28 n domain is under the strongest purifying selection of all canine ceacam1-related ceacams.',\n 'in addition, ceacam28 shows a similar expression pattern in resting immune cells and tissues as ceacam1.',\n 'however, upon activation ceacam28 mrna and ceacam1 mrna are differentially regulated.',\n 'conclusion: thus, ceacam1 and ceacam28 are the first paired immune receptors identified within the cea gene family, which are expressed on t cells and are most likely involved in the fine-tuning of t cell responses.',\n 'the direction of gene conversion accompanied by purifying selection and expression in immune cells suggests the possibility that ceacam28 evolved in response to selective pressure imposed by species-specific pathogens.',\n 'nucleoli are the prominent contrasted structures of the cell nucleus.',\n 'in the nucleolus, ribosomal rnas are synthesized, processed and assembled with ribosomal proteins.',\n 'rna polymerase i synthesizes the ribosomal rnas and this activity is cell cycle regulated.',\n 'the nucleolus reveals the functional organization of the nucleus in which the compartmentation of the different steps of ribosome biogenesis is observed whereas the nucleolar machineries are in permanent exchange with the nucleoplasm and other nuclear bodies.',\n 'after mitosis, nucleolar assembly is a time and space regulated process controlled by the cell cycle.',\n 'in addition, by generating a large volume in the nucleus with apparently no rna polymerase ii activity, the nucleolus creates a domain of retention/sequestration of molecules normally active outside the nucleolus.',\n 'viruses interact with the nucleolus and recruit nucleolar proteins to facilitate virus replication.',\n 'the nucleolus is also a sensor of stress due to the redistribution of the ribosomal proteins in the nucleoplasm by nucleolus disruption.',\n 'the nucleolus plays several crucial functions in the nucleus: in addition to its function as ribosome factory of the cells it is a multifunctional nuclear domain, and nucleolar activity is linked with several pathologies.',\n 'perspectives on the evolution of this research area are proposed.',\n 'the leaves of lagerstroemia speciosa (lythraceae), a southeast asian tree more commonly known as banaba, have been traditionally consumed in various forms by philippinos for treatment of diabetes and kidney related diseases.',\n 'in the 1990s, the popularity of this herbal medicine began to attract the attention of scientists worldwide.',\n 'since then, researchers have conducted numerous in vitro and in vivo studies that consistently confirmed the antidiabetic activity of banaba.',\n 'scientists have identified different components of banaba to be responsible for its activity.',\n 'using tumor cells as a cell model, corosolic acid was isolated from the methanol extract of banaba and shown to be an active compound.',\n 'more recently, a different cell model and the focus on the water soluble fraction of the extract led to the discovery of other compounds.',\n 'the ellagitannin lagerstroemin was identified as an effective component of the banaba extract responsible for the activity.',\n 'in a different approach, using 3t3-l1 adipocytes as a cell model and a glucose uptake assay as the functional screening method, chen et al.',\n 'showed that the banaba water extract exhibited an insulin-like glucose transport inducing activity.',\n 'coupling hplc fractionation with a glucose uptake assay, gallotannins were identified in the banaba extract as components responsible for the activity, not corosolic acid.',\n 'penta-o-galloyl-glucopyranose (pgg) was identified as the most potent gallotannin.',\n ...]"
     },
     "metadata": {},
     "execution_count": 74
    }
   ],
   "source": [
    "print(sentences)"
   ]
  },
  {
   "cell_type": "code",
   "execution_count": 17,
   "metadata": {},
   "outputs": [
    {
     "output_type": "execute_result",
     "data": {
      "text/plain": "['objective: this retrospective chart review describes the epidemiology and clinical features of 40 patients with culture-proven mycoplasma pneumoniae infections at king abdulaziz university hospital, jeddah, saudi arabia.',\n 'methods: patients with positive m. pneumoniae cultures from respiratory specimens from january 1997 through december 1998 were identified through the microbiology records.',\n 'charts of patients were reviewed.',\n 'results: 40 patients were identified, 33 (82.5%) of whom required admission.',\n 'most infections (92.5%) were community-acquired.',\n 'the infection affected all age groups but was most common in infants (32.5%) and pre-school children (22.5%).',\n 'it occurred year-round but was most common in the fall (35%) and spring (30%).',\n 'more than three-quarters of patients (77.5%) had comorbidities.',\n 'twenty-four isolates (60%) were associated with pneumonia, 14 (35%) with upper respiratory tract infections, and 2 (5%) with bronchiolitis.',\n 'cough (82.5%), fever (75%), and malaise (58.8%) were the most common symptoms, and crepitations (60%), and wheezes (40%) were the most common signs.',\n 'most patients with pneumonia had crepitations (79.2%) but only 25% had bronchial breathing.',\n 'immunocompromised patients were more likely than non-immunocompromised patients to present with pneumonia (8/9 versus 16/31, p = 0.05).',\n 'of the 24 patients with pneumonia, 14 (58.3%) had uneventful recovery, 4 (16.7%) recovered following some complications, 3 (12.5%) died because of m pneumoniae infection, and 3 (12.5%) died due to underlying comorbidities.',\n 'the 3 patients who died of m pneumoniae pneumonia had other comorbidities.',\n 'conclusion: our results were similar to published data except for the finding that infections were more common in infants and preschool children and that the mortality rate of pneumonia in patients with comorbidities was high.']"
     },
     "metadata": {},
     "execution_count": 17
    }
   ],
   "source": [
    "sentences[0]"
   ]
  },
  {
   "cell_type": "code",
   "execution_count": 19,
   "metadata": {},
   "outputs": [],
   "source": [
    "from nltk.stem import PorterStemmer"
   ]
  },
  {
   "cell_type": "code",
   "execution_count": 20,
   "metadata": {},
   "outputs": [],
   "source": [
    "ps = PorterStemmer()"
   ]
  },
  {
   "cell_type": "code",
   "execution_count": 75,
   "metadata": {},
   "outputs": [],
   "source": [
    "def _create_frequency_table(text_string) -> dict:\n",
    "\n",
    "    stopWords = set(stopwords.words(\"english\"))\n",
    "    words = word_tokenize(text_string)\n",
    "    ps = PorterStemmer()\n",
    "\n",
    "    freqTable = dict()\n",
    "    for word in words:\n",
    "        word = ps.stem(word)\n",
    "        if word in stopWords:\n",
    "            continue\n",
    "        if word in freqTable:\n",
    "            freqTable[word] += 1\n",
    "        else:\n",
    "            freqTable[word] = 1\n",
    "\n",
    "    return freqTable"
   ]
  },
  {
   "cell_type": "code",
   "execution_count": 25,
   "metadata": {
    "tags": []
   },
   "outputs": [
    {
     "output_type": "stream",
     "name": "stdout",
     "text": "objective: this retrospective chart review describes the epidemiology and clinical features of 40 patients with culture-proven mycoplasma pneumoniae infections at king abdulaziz university hospital, jeddah, saudi arabia.\n\nmethods: patients with positive m. pneumoniae cultures from respiratory specimens from january 1997 through december 1998 were identified through the microbiology records.\n\ncharts of patients were reviewed.\n\nresults: 40 patients were identified, 33 (82.5%) of whom required admission.\n\nmost infections (92.5%) were community-acquired.\n\nthe infection affected all age groups but was most common in infants (32.5%) and pre-school children (22.5%).\n\nit occurred year-round but was most common in the fall (35%) and spring (30%).\n\nmore than three-quarters of patients (77.5%) had comorbidities.\n\ntwenty-four isolates (60%) were associated with pneumonia, 14 (35%) with upper respiratory tract infections, and 2 (5%) with bronchiolitis.\n\ncough (82.5%), fever (75%), and malaise (58.8%) were the most common symptoms, and crepitations (60%), and wheezes (40%) were the most common signs.\n\nmost patients with pneumonia had crepitations (79.2%) but only 25% had bronchial breathing.\n\nimmunocompromised patients were more likely than non-immunocompromised patients to present with pneumonia (8/9 versus 16/31, p = 0.05).\n\nof the 24 patients with pneumonia, 14 (58.3%) had uneventful recovery, 4 (16.7%) recovered following some complications, 3 (12.5%) died because of m pneumoniae infection, and 3 (12.5%) died due to underlying comorbidities.\n\nthe 3 patients who died of m pneumoniae pneumonia had other comorbidities.\n\nconclusion: our results were similar to published data except for the finding that infections were more common in infants and preschool children and that the mortality rate of pneumonia in patients with comorbidities was high.\n\n"
    }
   ],
   "source": [
    "for line in sentences[0]:\n",
    "    print(line)\n",
    "    print()"
   ]
  },
  {
   "cell_type": "code",
   "execution_count": 28,
   "metadata": {},
   "outputs": [],
   "source": [
    "from nltk.corpus import stopwords"
   ]
  },
  {
   "cell_type": "code",
   "execution_count": 51,
   "metadata": {
    "tags": []
   },
   "outputs": [
    {
     "output_type": "stream",
     "name": "stdout",
     "text": "{\"don't\", 'them', 'ain', 'more', 'other', 'for', 'of', 'why', 'being', 'so', 'below', 'now', 'don', 'doesn', \"mightn't\", 'in', 'than', 'we', 'o', 'not', 'hadn', 'yourself', \"couldn't\", 'him', 'most', 'needn', \"shan't\", 'into', 'only', \"wouldn't\", 'this', 'myself', 'when', 'no', 'very', \"hasn't\", 'haven', \"you're\", 'just', 'by', 'his', 'it', 'these', \"that'll\", 'yourselves', 'herself', 'our', 'do', \"haven't\", 'on', \"didn't\", 'at', 'through', 'itself', 'over', \"shouldn't\", 'you', 'aren', 'shouldn', 'up', 'be', 'nor', 'i', 'will', 'had', 'each', 'those', 'mustn', 'my', \"mustn't\", 'does', 'to', 'where', 'then', 'under', 'which', 'her', 'doing', 'between', \"weren't\", 'while', 'an', 'during', 'again', 'before', 'but', 'isn', 'if', 'such', 'and', 'against', 'did', 'should', 'some', 'm', 'all', \"you've\", 'shan', 'down', 'who', 'or', 'their', 'weren', 'ourselves', 'can', 'ours', \"aren't\", 'both', 'any', \"doesn't\", 'yours', 'am', 'hasn', 'themselves', 'have', \"wasn't\", 'were', 'out', 'same', 'few', \"you'd\", 'wasn', 'they', 'there', 'too', 'having', 'what', 'is', 'own', 'been', 'because', \"needn't\", \"should've\", 've', 't', 'after', 'until', 'further', 'me', 'wouldn', 'was', 'your', 'mightn', 'he', 'd', 'hers', 's', 'once', 'has', 'himself', 'the', 'its', 'a', 'y', \"you'll\", 'above', 'from', 'here', 'she', 're', 'that', 'll', 'with', \"hadn't\", 'couldn', 'about', \"won't\", 'ma', 'off', 'whom', 'are', 'how', 'theirs', \"it's\", \"isn't\", 'won', 'didn', \"she's\", 'as'}\n"
    }
   ],
   "source": [
    "#Filtering out stopwords\n",
    "stop_words = set(stopwords.words(\"english\"))\n",
    "filtered_words = []\n",
    "print(stop_words)\n",
    "\n",
    "stop_words  = list(stop_words) \n",
    "\n",
    "for w in words:\n",
    "    if w not in stop_words:\n",
    "        filtered_words.append(w)\n",
    "    "
   ]
  },
  {
   "cell_type": "code",
   "execution_count": 47,
   "metadata": {},
   "outputs": [],
   "source": [
    "print(filtered_words)"
   ]
  },
  {
   "cell_type": "code",
   "execution_count": 49,
   "metadata": {
    "tags": []
   },
   "outputs": [],
   "source": []
  },
  {
   "cell_type": "code",
   "execution_count": 45,
   "metadata": {},
   "outputs": [
    {
     "output_type": "error",
     "ename": "AttributeError",
     "evalue": "'list' object has no attribute 'split'",
     "traceback": [
      "\u001b[0;31m---------------------------------------------------------------------------\u001b[0m",
      "\u001b[0;31mAttributeError\u001b[0m                            Traceback (most recent call last)",
      "\u001b[0;32m<ipython-input-45-8c5dfb8a49da>\u001b[0m in \u001b[0;36m<module>\u001b[0;34m\u001b[0m\n\u001b[0;32m----> 1\u001b[0;31m \u001b[0mtest\u001b[0m \u001b[0;34m=\u001b[0m \u001b[0mw\u001b[0m\u001b[0;34m.\u001b[0m\u001b[0msplit\u001b[0m\u001b[0;34m(\u001b[0m\u001b[0;34m)\u001b[0m\u001b[0;34m\u001b[0m\u001b[0;34m\u001b[0m\u001b[0m\n\u001b[0m",
      "\u001b[0;31mAttributeError\u001b[0m: 'list' object has no attribute 'split'"
     ]
    }
   ],
   "source": []
  },
  {
   "cell_type": "code",
   "execution_count": null,
   "metadata": {},
   "outputs": [],
   "source": []
  },
  {
   "cell_type": "code",
   "execution_count": 30,
   "metadata": {
    "tags": []
   },
   "outputs": [
    {
     "output_type": "stream",
     "name": "stdout",
     "text": "[]\n"
    }
   ],
   "source": []
  }
 ],
 "metadata": {
  "language_info": {
   "codemirror_mode": {
    "name": "ipython",
    "version": 3
   },
   "file_extension": ".py",
   "mimetype": "text/x-python",
   "name": "python",
   "nbconvert_exporter": "python",
   "pygments_lexer": "ipython3",
   "version": "3.7.2-final"
  },
  "orig_nbformat": 2,
  "kernelspec": {
   "name": "python3",
   "display_name": "Python 3"
  }
 },
 "nbformat": 4,
 "nbformat_minor": 2
}