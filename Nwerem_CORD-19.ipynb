{
 "cells": [
  {
   "cell_type": "code",
   "execution_count": 1,
   "metadata": {},
   "outputs": [],
   "source": [
    "import numpy as np\n",
    "import pandas as pd\n",
    "import nltk\n",
    "import re\n",
    "import pyspark"
   ]
  },
  {
   "cell_type": "code",
   "execution_count": 17,
   "metadata": {},
   "outputs": [],
   "source": [
    "pd.set_option('display.max_columns', None)  "
   ]
  },
  {
   "cell_type": "code",
   "execution_count": 18,
   "metadata": {
    "tags": []
   },
   "outputs": [
    {
     "output_type": "stream",
     "name": "stderr",
     "text": "/Library/Frameworks/Python.framework/Versions/3.6/lib/python3.6/site-packages/IPython/core/interactiveshell.py:3063: DtypeWarning: Columns (5,13,14,16) have mixed types.Specify dtype option on import or set low_memory=False.\n  interactivity=interactivity, compiler=compiler, result=result)\n"
    }
   ],
   "source": [
    "df =  pd.read_csv(\"/Users/MattNwerem/Downloads/COVID_Kaggle_CORD-19/metadata.csv\")"
   ]
  },
  {
   "cell_type": "code",
   "execution_count": 19,
   "metadata": {},
   "outputs": [
    {
     "output_type": "execute_result",
     "data": {
      "text/plain": "   cord_uid                                       sha source_x  \\\n0  ug7v899j  d1aafb70c066a2068b02786f8929fd9c900897fb      PMC   \n1  02tnwd4m  6b0567729c2143a66d737eb0a2f63f2dce2e5a7d      PMC   \n2  ejv2xln0  06ced00a5fc04215949aa72528f2eeaae1d58927      PMC   \n3  2b73a28n  348055649b6b8cf2b9a376498df9bf41f7123605      PMC   \n4  9785vg6d  5f48792a5fa08bed9f56016f4981ae2ca6031b32      PMC   \n\n                                               title                    doi  \\\n0  Clinical features of culture-proven Mycoplasma...  10.1186/1471-2334-1-6   \n1  Nitric oxide: a pro-inflammatory mediator in l...           10.1186/rr14   \n2    Surfactant protein-D and pulmonary host defense           10.1186/rr19   \n3               Role of endothelin-1 in lung disease           10.1186/rr44   \n4  Gene expression in epithelial cells in respons...           10.1186/rr61   \n\n      pmcid   pubmed_id license  \\\n0  PMC35282  11472636.0   no-cc   \n1  PMC59543  11667967.0   no-cc   \n2  PMC59549  11667972.0   no-cc   \n3  PMC59574  11686871.0   no-cc   \n4  PMC59580  11686888.0   no-cc   \n\n                                            abstract publish_time  \\\n0  OBJECTIVE: This retrospective chart review des...   2001-07-04   \n1  Inflammatory diseases of the respiratory tract...   2000-08-15   \n2  Surfactant protein-D (SP-D) participates in th...   2000-08-25   \n3  Endothelin-1 (ET-1) is a 21 amino acid peptide...   2001-02-22   \n4  Respiratory syncytial virus (RSV) and pneumoni...   2001-05-11   \n\n                                             authors         journal  mag_id  \\\n0                Madani, Tariq A; Al-Ghamdi, Aisha A  BMC Infect Dis     NaN   \n1  Vliet, Albert van der; Eiserich, Jason P; Cros...      Respir Res     NaN   \n2                                    Crouch, Erika C      Respir Res     NaN   \n3  Fagan, Karen A; McMurtry, Ivan F; Rodman, David M      Respir Res     NaN   \n4  Domachowske, Joseph B; Bonville, Cynthia A; Ro...      Respir Res     NaN   \n\n  who_covidence_id arxiv_id  \\\n0              NaN      NaN   \n1              NaN      NaN   \n2              NaN      NaN   \n3              NaN      NaN   \n4              NaN      NaN   \n\n                                      pdf_json_files  \\\n0  document_parses/pdf_json/d1aafb70c066a2068b027...   \n1  document_parses/pdf_json/6b0567729c2143a66d737...   \n2  document_parses/pdf_json/06ced00a5fc04215949aa...   \n3  document_parses/pdf_json/348055649b6b8cf2b9a37...   \n4  document_parses/pdf_json/5f48792a5fa08bed9f560...   \n\n                               pmc_json_files  \\\n0  document_parses/pmc_json/PMC35282.xml.json   \n1  document_parses/pmc_json/PMC59543.xml.json   \n2  document_parses/pmc_json/PMC59549.xml.json   \n3  document_parses/pmc_json/PMC59574.xml.json   \n4  document_parses/pmc_json/PMC59580.xml.json   \n\n                                                 url  s2_id  \n0  https://www.ncbi.nlm.nih.gov/pmc/articles/PMC3...    NaN  \n1  https://www.ncbi.nlm.nih.gov/pmc/articles/PMC5...    NaN  \n2  https://www.ncbi.nlm.nih.gov/pmc/articles/PMC5...    NaN  \n3  https://www.ncbi.nlm.nih.gov/pmc/articles/PMC5...    NaN  \n4  https://www.ncbi.nlm.nih.gov/pmc/articles/PMC5...    NaN  ",
      "text/html": "<div>\n<style scoped>\n    .dataframe tbody tr th:only-of-type {\n        vertical-align: middle;\n    }\n\n    .dataframe tbody tr th {\n        vertical-align: top;\n    }\n\n    .dataframe thead th {\n        text-align: right;\n    }\n</style>\n<table border=\"1\" class=\"dataframe\">\n  <thead>\n    <tr style=\"text-align: right;\">\n      <th></th>\n      <th>cord_uid</th>\n      <th>sha</th>\n      <th>source_x</th>\n      <th>title</th>\n      <th>doi</th>\n      <th>pmcid</th>\n      <th>pubmed_id</th>\n      <th>license</th>\n      <th>abstract</th>\n      <th>publish_time</th>\n      <th>authors</th>\n      <th>journal</th>\n      <th>mag_id</th>\n      <th>who_covidence_id</th>\n      <th>arxiv_id</th>\n      <th>pdf_json_files</th>\n      <th>pmc_json_files</th>\n      <th>url</th>\n      <th>s2_id</th>\n    </tr>\n  </thead>\n  <tbody>\n    <tr>\n      <th>0</th>\n      <td>ug7v899j</td>\n      <td>d1aafb70c066a2068b02786f8929fd9c900897fb</td>\n      <td>PMC</td>\n      <td>Clinical features of culture-proven Mycoplasma...</td>\n      <td>10.1186/1471-2334-1-6</td>\n      <td>PMC35282</td>\n      <td>11472636.0</td>\n      <td>no-cc</td>\n      <td>OBJECTIVE: This retrospective chart review des...</td>\n      <td>2001-07-04</td>\n      <td>Madani, Tariq A; Al-Ghamdi, Aisha A</td>\n      <td>BMC Infect Dis</td>\n      <td>NaN</td>\n      <td>NaN</td>\n      <td>NaN</td>\n      <td>document_parses/pdf_json/d1aafb70c066a2068b027...</td>\n      <td>document_parses/pmc_json/PMC35282.xml.json</td>\n      <td>https://www.ncbi.nlm.nih.gov/pmc/articles/PMC3...</td>\n      <td>NaN</td>\n    </tr>\n    <tr>\n      <th>1</th>\n      <td>02tnwd4m</td>\n      <td>6b0567729c2143a66d737eb0a2f63f2dce2e5a7d</td>\n      <td>PMC</td>\n      <td>Nitric oxide: a pro-inflammatory mediator in l...</td>\n      <td>10.1186/rr14</td>\n      <td>PMC59543</td>\n      <td>11667967.0</td>\n      <td>no-cc</td>\n      <td>Inflammatory diseases of the respiratory tract...</td>\n      <td>2000-08-15</td>\n      <td>Vliet, Albert van der; Eiserich, Jason P; Cros...</td>\n      <td>Respir Res</td>\n      <td>NaN</td>\n      <td>NaN</td>\n      <td>NaN</td>\n      <td>document_parses/pdf_json/6b0567729c2143a66d737...</td>\n      <td>document_parses/pmc_json/PMC59543.xml.json</td>\n      <td>https://www.ncbi.nlm.nih.gov/pmc/articles/PMC5...</td>\n      <td>NaN</td>\n    </tr>\n    <tr>\n      <th>2</th>\n      <td>ejv2xln0</td>\n      <td>06ced00a5fc04215949aa72528f2eeaae1d58927</td>\n      <td>PMC</td>\n      <td>Surfactant protein-D and pulmonary host defense</td>\n      <td>10.1186/rr19</td>\n      <td>PMC59549</td>\n      <td>11667972.0</td>\n      <td>no-cc</td>\n      <td>Surfactant protein-D (SP-D) participates in th...</td>\n      <td>2000-08-25</td>\n      <td>Crouch, Erika C</td>\n      <td>Respir Res</td>\n      <td>NaN</td>\n      <td>NaN</td>\n      <td>NaN</td>\n      <td>document_parses/pdf_json/06ced00a5fc04215949aa...</td>\n      <td>document_parses/pmc_json/PMC59549.xml.json</td>\n      <td>https://www.ncbi.nlm.nih.gov/pmc/articles/PMC5...</td>\n      <td>NaN</td>\n    </tr>\n    <tr>\n      <th>3</th>\n      <td>2b73a28n</td>\n      <td>348055649b6b8cf2b9a376498df9bf41f7123605</td>\n      <td>PMC</td>\n      <td>Role of endothelin-1 in lung disease</td>\n      <td>10.1186/rr44</td>\n      <td>PMC59574</td>\n      <td>11686871.0</td>\n      <td>no-cc</td>\n      <td>Endothelin-1 (ET-1) is a 21 amino acid peptide...</td>\n      <td>2001-02-22</td>\n      <td>Fagan, Karen A; McMurtry, Ivan F; Rodman, David M</td>\n      <td>Respir Res</td>\n      <td>NaN</td>\n      <td>NaN</td>\n      <td>NaN</td>\n      <td>document_parses/pdf_json/348055649b6b8cf2b9a37...</td>\n      <td>document_parses/pmc_json/PMC59574.xml.json</td>\n      <td>https://www.ncbi.nlm.nih.gov/pmc/articles/PMC5...</td>\n      <td>NaN</td>\n    </tr>\n    <tr>\n      <th>4</th>\n      <td>9785vg6d</td>\n      <td>5f48792a5fa08bed9f56016f4981ae2ca6031b32</td>\n      <td>PMC</td>\n      <td>Gene expression in epithelial cells in respons...</td>\n      <td>10.1186/rr61</td>\n      <td>PMC59580</td>\n      <td>11686888.0</td>\n      <td>no-cc</td>\n      <td>Respiratory syncytial virus (RSV) and pneumoni...</td>\n      <td>2001-05-11</td>\n      <td>Domachowske, Joseph B; Bonville, Cynthia A; Ro...</td>\n      <td>Respir Res</td>\n      <td>NaN</td>\n      <td>NaN</td>\n      <td>NaN</td>\n      <td>document_parses/pdf_json/5f48792a5fa08bed9f560...</td>\n      <td>document_parses/pmc_json/PMC59580.xml.json</td>\n      <td>https://www.ncbi.nlm.nih.gov/pmc/articles/PMC5...</td>\n      <td>NaN</td>\n    </tr>\n  </tbody>\n</table>\n</div>"
     },
     "metadata": {},
     "execution_count": 19
    }
   ],
   "source": [
    "df.head(5)"
   ]
  },
  {
   "cell_type": "code",
   "execution_count": 26,
   "metadata": {},
   "outputs": [
    {
     "output_type": "execute_result",
     "data": {
      "text/plain": "'OBJECTIVE: This retrospective chart review describes the epidemiology and clinical features of 40 patients with culture-proven Mycoplasma pneumoniae infections at King Abdulaziz University Hospital, Jeddah, Saudi Arabia. METHODS: Patients with positive M. pneumoniae cultures from respiratory specimens from January 1997 through December 1998 were identified through the Microbiology records. Charts of patients were reviewed. RESULTS: 40 patients were identified, 33 (82.5%) of whom required admission. Most infections (92.5%) were community-acquired. The infection affected all age groups but was most common in infants (32.5%) and pre-school children (22.5%). It occurred year-round but was most common in the fall (35%) and spring (30%). More than three-quarters of patients (77.5%) had comorbidities. Twenty-four isolates (60%) were associated with pneumonia, 14 (35%) with upper respiratory tract infections, and 2 (5%) with bronchiolitis. Cough (82.5%), fever (75%), and malaise (58.8%) were the most common symptoms, and crepitations (60%), and wheezes (40%) were the most common signs. Most patients with pneumonia had crepitations (79.2%) but only 25% had bronchial breathing. Immunocompromised patients were more likely than non-immunocompromised patients to present with pneumonia (8/9 versus 16/31, P = 0.05). Of the 24 patients with pneumonia, 14 (58.3%) had uneventful recovery, 4 (16.7%) recovered following some complications, 3 (12.5%) died because of M pneumoniae infection, and 3 (12.5%) died due to underlying comorbidities. The 3 patients who died of M pneumoniae pneumonia had other comorbidities. CONCLUSION: our results were similar to published data except for the finding that infections were more common in infants and preschool children and that the mortality rate of pneumonia in patients with comorbidities was high.'"
     },
     "metadata": {},
     "execution_count": 26
    }
   ],
   "source": [
    "df[\"abstract\"][0] #test"
   ]
  },
  {
   "cell_type": "code",
   "execution_count": 27,
   "metadata": {},
   "outputs": [
    {
     "output_type": "execute_result",
     "data": {
      "text/plain": "'Inflammatory diseases of the respiratory tract are commonly associated with elevated production of nitric oxide (NO•) and increased indices of NO• -dependent oxidative stress. Although NO• is known to have anti-microbial, anti-inflammatory and anti-oxidant properties, various lines of evidence support the contribution of NO• to lung injury in several disease models. On the basis of biochemical evidence, it is often presumed that such NO• -dependent oxidations are due to the formation of the oxidant peroxynitrite, although alternative mechanisms involving the phagocyte-derived heme proteins myeloperoxidase and eosinophil peroxidase might be operative during conditions of inflammation. Because of the overwhelming literature on NO• generation and activities in the respiratory tract, it would be beyond the scope of this commentary to review this area comprehensively. Instead, it focuses on recent evidence and concepts of the presumed contribution of NO• to inflammatory diseases of the lung.'"
     },
     "metadata": {},
     "execution_count": 27
    }
   ],
   "source": [
    "df[\"abstract\"][1] #test"
   ]
  },
  {
   "cell_type": "code",
   "execution_count": 61,
   "metadata": {
    "tags": []
   },
   "outputs": [
    {
     "output_type": "stream",
     "name": "stdout",
     "text": "2629172\n"
    }
   ],
   "source": [
    "ix = 0\n",
    "total_index = 0\n",
    "for index in df[\"abstract\"][ix]:\n",
    "\n",
    "    total_index+=(len(df[\"abstract\"][ix]))\n",
    "    ix+=1\n",
    "print(total_index) #checking to see length of all the characters; \n",
    "# This number should be greater than the below action len(sentences) because sent_tokenize() will break up articles by sentence"
   ]
  },
  {
   "cell_type": "code",
   "execution_count": 64,
   "metadata": {
    "tags": []
   },
   "outputs": [
    {
     "output_type": "execute_result",
     "data": {
      "text/plain": "'\\ni = 0\\nfor s in df[\"abstract\"]:\\n    print(s)\\n    i+=1\\n    if(i == 5):\\n        break\\n'"
     },
     "metadata": {},
     "execution_count": 64
    }
   ],
   "source": [
    "#Testing what data looks like\n",
    "'''\n",
    "i = 0\n",
    "for s in df[\"abstract\"]:\n",
    "    print(s)\n",
    "    i+=1\n",
    "    if(i == 5):\n",
    "        break\n",
    "'''"
   ]
  },
  {
   "cell_type": "code",
   "execution_count": 40,
   "metadata": {},
   "outputs": [
    {
     "output_type": "execute_result",
     "data": {
      "text/plain": "cord_uid             object\nsha                  object\nsource_x             object\ntitle                object\ndoi                  object\npmcid                object\npubmed_id           float64\nlicense              object\nabstract             object\npublish_time         object\nauthors              object\njournal              object\nmag_id              float64\nwho_covidence_id     object\narxiv_id             object\npdf_json_files       object\npmc_json_files       object\nurl                  object\ns2_id               float64\ndtype: object"
     },
     "metadata": {},
     "execution_count": 40
    }
   ],
   "source": [
    "df.dtypes"
   ]
  },
  {
   "cell_type": "code",
   "execution_count": 63,
   "metadata": {},
   "outputs": [],
   "source": [
    "new_dtypes = {\"title\": str, \"abstract\": str} #these dtypes must be changed in order to use sent_tokenize()\n",
    "df = df.astype(new_dtypes)"
   ]
  },
  {
   "cell_type": "code",
   "execution_count": 51,
   "metadata": {
    "tags": []
   },
   "outputs": [
    {
     "output_type": "stream",
     "name": "stdout",
     "text": "cord_uid             object\nsha                  object\nsource_x             object\ntitle                object\ndoi                  object\npmcid                object\npubmed_id           float64\nlicense              object\nabstract             object\npublish_time         object\nauthors              object\njournal              object\nmag_id              float64\nwho_covidence_id     object\narxiv_id             object\npdf_json_files       object\npmc_json_files       object\nurl                  object\ns2_id               float64\ndtype: object\n"
    }
   ],
   "source": [
    "print(df.dtypes) #check to see if dtpypes changed"
   ]
  },
  {
   "cell_type": "code",
   "execution_count": 52,
   "metadata": {},
   "outputs": [],
   "source": [
    "from nltk.tokenize import sent_tokenize\n",
    "sentences = []\n",
    "\n",
    "for s in df['abstract']:\n",
    "  sentences.append(sent_tokenize(s))"
   ]
  },
  {
   "cell_type": "code",
   "execution_count": 54,
   "metadata": {},
   "outputs": [],
   "source": [
    "sentences = [y for x in sentences for y in x] ## literally all text from all articles"
   ]
  },
  {
   "cell_type": "code",
   "execution_count": 56,
   "metadata": {},
   "outputs": [
    {
     "output_type": "execute_result",
     "data": {
      "text/plain": "1061742"
     },
     "metadata": {},
     "execution_count": 56
    }
   ],
   "source": [
    "len(sentences)"
   ]
  },
  {
   "cell_type": "code",
   "execution_count": 62,
   "metadata": {},
   "outputs": [
    {
     "output_type": "execute_result",
     "data": {
      "text/plain": ".26%).',\n 'This contamination and infrequent handwashing practices suggest that county fairs are a possible venue for animal-to-human pathogen transmission.',\n 'The human APOBEC3G protein is an innate anti-viral factor that can dominantly inhibit the replication of some endogenous and exogenous retroviruses.',\n 'The prospects of purposefully harnessing such an anti-viral defense are under investigation.',\n 'Here, long-term co-culture experiments were used to show that porcine endogenous retrovirus (PERV) transmission from pig to human cells is reduced to nearly undetectable levels by expressing human APOBEC3G in virus-producing pig kidney cells.',\n 'Inhibition occurred by a deamination-independent mechanism, likely after particle production but before the virus could immortalize by integration into human genomic DNA.',\n 'PERV inhibition did not require the DNA cytosine deaminase activity of APOBEC3G and, correspondingly, APOBEC3G-attributable hypermutations were not detected.',\n 'In contrast, over-expression of the sole endogenous APOBEC3 protein of pigs failed to interfere significantly with PERV transmission.',\n 'Together, these data constitute the first proof-of-principle demonstration that APOBEC3 proteins can be used to fortify the innate anti-viral defenses of cells to prevent the zoonotic transmission of an endogenous retrovirus.',\n 'These studies suggest that human APOBEC3G-transgenic pigs will provide safer, PERV-less xenotransplantation resources and that analogous cross-species APOBEC3-dependent restriction strategies may be useful for thwarting other endogenous as well as exogenous retrovirus infections.',\n 'BACKGROUND: In 2005 huge epizooty of H5N1 HPAI occurred in Russia.',\n 'It had been clear that territory of Russia becoming endemic for H5N1 HPAI.',\n 'In 2006 several outbreaks have occurred.',\n 'To develop new vaccines and antiviral therapies, animal models had to be investigated.',\n 'We choose highly pathogenic strain for these studies.',\n 'RESULTS: A/duck/Tuva/01/06 belongs to Quinghai-like group viruses.',\n 'Molecular markers – cleavage site, K627 in PB2 characterize this virus as highly pathogenic.',\n 'This data was confirmed by direct pathogenic tests: IVPI = 3.0, MLD(50 )= 1,4Log10EID(50).',\n 'Also molecular analysis showed sensivity of the virus to adamantanes and neuraminidase inhibitors.',\n 'Serological analysis showed wide cross-reactivity of this virus with sera produced to H5N1 HPAI viruses isolated earlier in South-East Asia.',\n 'Mean time to death of infected animals was 8,19+/-0,18 days.',\n 'First time acute delayed hemorrhagic syndrome was observed in mice lethal model.',\n 'Hypercytokinemia was determined by elevated sera levels of IFN-gamma, IL-6, IL-10.',\n 'CONCLUSION: Assuming all obtained data we can conclude that basic model parameters were characterized and virus A/duck/Tuva/01/06 can be used to evaluate anti-influenza vaccines and therapeutics.',\n 'Predicting RNA secondary structure is often the first step to determining the structure of RNA.',\n 'Prediction approaches have historically avoided searching for pseudoknots because of the extreme combinatorial and time complexity of the problem.',\n 'Yet neglecting pseudoknots limits the utility of such approaches.',\n 'Here, an algorithm utilizing structure mapping and thermodynamics is introduced for RNA pseudoknot prediction that finds the minimum free energy and identifies information about the flexibility of the RNA.',\n 'The heuristic approach takes advantage of the 5′ to 3′ folding direction of many biological RNA molecules and is consistent with the hierarchical folding hypothesis and the contact order model.',\n 'Mapping methods are used to build and analyze the folded structure for pseudoknots and to add important 3D structural considerations.',\n 'The program can predict some well known pseudoknot structures correctly.',\n 'The results of this study suggest that many functional RNA sequences are optimized for proper folding.',\n 'They also suggest directions we can proceed in the future to achieve even better results.',\n 'Arginine-rich cell-penetrating peptides (CPPs) are promising transporters for intracellular delivery of antisense morpholino oligomers (PMO).',\n 'Here, we determined the effect of L-arginine, D-arginine and non-α amino acids on cellular uptake, splice-correction activity, cellular toxicity and serum binding for 24 CPP−PMOs.',\n 'Insertion of 6-aminohexanoic acid (X) or β-alanine (B) residues into oligoarginine R(8) decreased the cellular uptake but increased the splice-correction activity of the resulting compound, with a greater increase for the sequences containing more X residues.',\n 'Cellular toxicity was not observed for any of the conjugates up to 10 μM.',\n 'Up to 60 μM, only the conjugates with ⩾ 5 Xs exhibited time- and concentration-dependent toxicity.',\n 'Substitution of L-arginine with D-arginine did not increase uptake or splice-correction activity.',\n 'High concentration of serum significantly decreased the uptake and splice-correction activity of oligoarginine conjugates, but had much less effect on the conjugates containing X or B.',\n 'In summary, incorporation of X/B into oligoarginine enhanced the antisense activity and serum-binding profile of CPP−PMO.',\n 'Toxicity of X/B-containing conjugates was affected by the number of Xs, treatment time and concentration.',\n 'More active, stable and less toxic CPPs can be designed by optimizing the position and number of R, D-R, X and B residues.',\n \"We've always wanted to save the world from the scourges of virus infection by developing better drugs and vaccines.\",\n 'But fully understanding the intricacies of virus-host interactions, the first step in achieving this goal, requires the ability to view the process on a grand scale.',\n 'The advent of high-throughput technologies, such as DNA microarrays and mass spectrometry, provided the first opportunities to obtain such a view.',\n 'Here we describe our efforts to use these tools to focus on the changes in cellular gene expression and protein abundance that occur in response to virus infection.',\n 'By examining these changes in a comprehensive manner, we have been able to discover exciting new insights into innate immunity, interferon and cytokine signaling, and the strategies used by viruses to overcome these cellular defenses.',\n 'Functional genomics may yet save the world from killer viruses.',\n 'The synthesis and characterization of isotopomer tandem nucleic acid mass tag–peptide nucleic acid (TNT–PNA) conjugates is described along with their use as electrospray ionisation-cleavable (ESI-Cleavable) hybridization probes for the detection and quantification of target DNA sequences by electrospray ionisation tandem mass spectrometry (ESI-MS/MS).',\n 'ESI-cleavable peptide TNT isotopomers were introduced into PNA oligonucleotide sequences in a total synthesis approach.',\n 'These conjugates were evaluated as hybridization probes for the detection and quantification of immobilized synthetic target DNAs using ESI-MS/MS.',\n 'In these experiments, the PNA portion of the conjugate acts as a hybridization probe, whereas the peptide TNT is released in a collision-based process during the ionization of the probe conjugate in the electrospray ion source.',\n 'The cleaved TNT acts as a uniquely resolvable marker to identify and quantify a unique target DNA sequence.',\n 'The method should be applicable to a wide variety of assays requiring highly multiplexed, quantitative DNA/RNA analysis, including gene expression monitoring, genetic profiling and the detection of pathogens.',\n 'Aberrant expression of DNA polymerase β, a key enzyme involved in base excision repair, leads to genetic instability and carcinogenesis.',\n 'Pol β expression has been previously shown to be regulated at the level of transcription, but there is also evidence of post-transcriptional regulation, since rat transcripts undergo alternative polyadenylation, and the resulting 3′UTR contain at least one regulatory element.',\n 'Data presented here indicate that RNA of the short 3′UTR folds to form a strong secondary structure (hairpin).',\n 'Its regulatory role was established utilizing a luciferase-based reporter system.',\n 'Further studies led to the identification of a protein factor, which binds to this element—the anti-apoptotic, cytoskeleton-related protein Hax-1.',\n 'The results of in vitro binding analysis indicate that the formation of the RNA–protein complex is significantly impaired by disruption of the hairpin motif.',\n 'We demonstrate that Hax-1 binds to Pol β mRNA exclusively in the form of a dimer.',\n 'Biochemical analysis revealed the presence of Hax-1 in mitochondria, but also in the nuclear matrix, which, along with its transcript-binding properties, suggests that Hax-1 plays a role in post-transcriptional regulation of expression of Pol β.',\n \"The 'global public good' (GPG) concept has gained increasing attention, in health as well as development circles.\",\n 'However, it has suffered in finding currency as a general tool for global resource mobilisation, and is at risk of being attached to almost anything promoting development.',\n 'This overstretches and devalues the validity and usefulness of the concept.',\n 'This paper first defines GPGs and describes the policy challenge that they pose.',\n 'Second, it identifies two key areas, health R&D and communicable disease control, in which the GPG concept is clearly relevant and considers the extent to which it has been applied.',\n 'We point out that that, while there have been many new initiatives, it is not clear that additional resources from non-traditional sources have been forthcoming.',\n 'Yet achieving this is, in effect, the entire purpose of applying the GPG concept in global health.',\n 'Moreover, the proliferation of disease-specific programs associated with GPG reasoning has tended to promote vertical interventions at the expense of more general health sector strengthening.',\n 'Third, we examine two major global health policy initiatives, the Global Fund against AIDS, Tuberculosis and Malaria (GFATM) and the bundling of long-standing international health goals in the form of Millennium Development Goals (MDG), asking how the GPG perspective has contributed to defining objectives and strategies.',\n 'We conclude that both initiatives are best interpreted in the context of traditional development assistance and, one-world rhetoric aside, have little to do with the challenge posed by GPGs for health.',\n 'The paper concludes by considering how the GPG concept can be more effectively used to promote global health.',\n 'The development of paediatric intensive care has contributed to the improved survival of critically ill children.',\n 'Physical and psychological sequelae and consequences for quality of life (QoL) in survivors might be significant, as has been determined in adult intensive care unit (ICU) survivors.',\n 'Awareness of sequelae due to the original illness and its treatment may result in changes in treatment and support during and after the acute phase.',\n 'To determine the current knowledge on physical and psychological sequelae and the quality of life in survivors of paediatric intensive care, we undertook a computerised comprehensive search of online databases for studies reporting sequelae in survivors of paediatric intensive care.',\n 'Studies reporting sequelae in paediatric survivors of cardiothoracic surgery and trauma were excluded, as were studies reporting only mortality.',\n 'All other studies reporting aspects of physical and psychological sequelae were analysed.',\n 'Twenty-seven studies consisting of 3,444 survivors met the selection criteria.',\n 'Distinct physical and psychological sequelae in patients have been determined and seemed to interfere with quality of life.',\n 'Psychological sequelae in parents seem to be common.',\n 'Small numbers, methodological limitations and quantitative and qualitative heterogeneity hamper the interpretation of data.',\n 'We conclude that paediatric intensive care survivors and their parents have physical and psychological sequelae affecting quality of life.',\n 'Further well-designed prospective studies evaluating sequelae of the original illness and its treatment are warranted.',\n 'BACKGROUND: With the development of new technology, it has recently become practical to resequence the genome of a bacterium after experimental manipulation.',\n 'It is critical though to know the accuracy of the technique used, and to establish confidence that all of the mutations were detected.',\n 'RESULTS: In order to evaluate the accuracy of genome resequencing using the microarray-based Comparative Genome Sequencing service provided by Nimblegen Systems Inc., we resequenced the E. coli strain W3110 Kohara using MG1655 as a reference, both of which have been completely sequenced using traditional sequencing methods.',\n 'CGS detected 7 of 8 small sequence differences, one large deletion, and 9 of 12 IS element insertions present in W3110, but did not detect a large chromosomal inversion.',\n 'In addition, we confirmed that CGS also detected 2 SNPs, one deletion and 7 IS element insertions that are not present in the genome sequence, which we attribute to changes that occurred after the creation of the W3110 lambda clone library.',\n 'The false positive rate for SNPs was one per 244 Kb of genome sequence.',\n 'CONCLUSION: CGS is an effective way to detect multiple mutations present in one bacterium relative to another, and while highly cost-effective, is prone to certain errors.',\n 'Mutations occurring in repeated sequences or in sequences with a high degree of secondary structure may go undetected.',\n 'It is also critical to follow up on regions of interest in which SNPs were not called because they often indicate deletions or IS element insertions.',\n 'The authors discuss humoral immune responses to HIV and approaches to designing vaccines that induce viral neutralizing and other potentially protective antibodies.',\n 'BACKGROUND: Despite the seriousness of dengue-related disease, with an estimated 50–100 million cases of dengue fever and 250,000–500,000 cases of dengue hemorrhagic fever/dengue shock syndrome each year, a clear understanding of dengue pathogenesis remains elusive.',\n 'Because of the lack of a disease model in animals and the complex immune interaction in dengue infection, the study of host response and immunopathogenesis is difficult.',\n 'The development of genomics technology, microarray and high throughput quantitative PCR have allowed researchers to study gene expression changes on a much broader scale.',\n 'We therefore used this approach to investigate the host response in dengue virus-infected cell lines and in patients developing dengue fever.',\n 'METHODOLOGY/PRINCIPAL FINDINGS: Using microarray and high throughput quantitative PCR method to monitor the host response to dengue viral replication in cell line infection models and in dengue patient blood samples, we identified differentially expressed genes along three major pathways; NF-κB initiated immune responses, type I interferon (IFN) and the ubiquitin proteasome pathway.',\n 'Among the most highly upregulated genes were the chemokines IP-10 and I-TAC, both ligands of the CXCR3 receptor.',\n 'Increased expression of IP-10 and I-TAC in the peripheral blood of ten patients at the early onset of fever was confirmed by ELISA.',\n 'A highly upregulated gene in the IFN pathway, viperin, was overexpressed in A549 cells resulting in a significant reduction in viral replication.',\n 'The upregulation of genes in the ubiquitin-proteasome pathway prompted the testing of proteasome inhibitors MG-132 and ALLN, both of which reduced viral replication.',\n 'CONCLUSION/SIGNIFICANCE: Unbiased gene expression analysis has identified new host genes associated with dengue infection, which we have validated in functional studies.',\n 'We showed that some parts of the host response can be used as potential biomarkers for the disease while others can be used to control dengue viral replication, thus representing viable targets for drug therapy.',\n 'BACKGROUND: Although the impact of pathogens on the evolution of the mammalian immune system is still under debate, proteins, which both regulate immune responses and serve as cellular receptors for pathogens should be at the forefront of pathogen-driven host evolution.',\n 'The CEA (carcinoembryonic antigen) gene family codes for such proteins and indeed shows tremendous species-specific variation between human and rodents.',\n 'Since little is known about the CEA gene family in other lineages of placental mammals, we expected to gain new insights into the evolution of the rapidly diverging CEA family by analyzing the CEA family of the dog.',\n 'RESULTS: Here we describe the complete CEA gene family in the dog.',\n 'We found that the gene coding for the ITIM-bearing immunoregulatory molecule CEACAM1 gave rise to a recent expansion of the canine CEA gene family by gene duplication, similar to that previously found in humans and mice.',\n 'However, while the murine and human CEACAMs (carcinoembryonic antigen-related cell adhesion molecules) are predominantly secreted and GPI-anchored, respectively, in the dog, most of the CEACAMs represent ITAM-bearing transmembrane proteins.',\n 'One of these proteins, CEACAM28, exhibits nearly complete sequence identity with the ligand-binding N domain of CEACAM1, but antagonizing signaling motifs in the cytoplasmic tail.',\n 'Comparison of nonsynonymous and synonymous substitutions indicates that the CEACAM28 N domain is under the strongest purifying selection of all canine CEACAM1-related CEACAMs.',\n 'In addition, CEACAM28 shows a similar expression pattern in resting immune cells and tissues as CEACAM1.',\n 'However, upon activation CEACAM28 mRNA and CEACAM1 mRNA are differentially regulated.',\n 'CONCLUSION: Thus, CEACAM1 and CEACAM28 are the first paired immune receptors identified within the CEA gene family, which are expressed on T cells and are most likely involved in the fine-tuning of T cell responses.',\n 'The direction of gene conversion accompanied by purifying selection and expression in immune cells suggests the possibility that CEACAM28 evolved in response to selective pressure imposed by species-specific pathogens.',\n 'Nucleoli are the prominent contrasted structures of the cell nucleus.',\n 'In the nucleolus, ribosomal RNAs are synthesized, processed and assembled with ribosomal proteins.',\n 'RNA polymerase I synthesizes the ribosomal RNAs and this activity is cell cycle regulated.',\n 'The nucleolus reveals the functional organization of the nucleus in which the compartmentation of the different steps of ribosome biogenesis is observed whereas the nucleolar machineries are in permanent exchange with the nucleoplasm and other nuclear bodies.',\n 'After mitosis, nucleolar assembly is a time and space regulated process controlled by the cell cycle.',\n 'In addition, by generating a large volume in the nucleus with apparently no RNA polymerase II activity, the nucleolus creates a domain of retention/sequestration of molecules normally active outside the nucleolus.',\n 'Viruses interact with the nucleolus and recruit nucleolar proteins to facilitate virus replication.',\n 'The nucleolus is also a sensor of stress due to the redistribution of the ribosomal proteins in the nucleoplasm by nucleolus disruption.',\n 'The nucleolus plays several crucial functions in the nucleus: in addition to its function as ribosome factory of the cells it is a multifunctional nuclear domain, and nucleolar activity is linked with several pathologies.',\n 'Perspectives on the evolution of this research area are proposed.',\n 'The leaves of Lagerstroemia speciosa (Lythraceae), a Southeast Asian tree more commonly known as banaba, have been traditionally consumed in various forms by Philippinos for treatment of diabetes and kidney related diseases.',\n ...]"
     },
     "metadata": {},
     "execution_count": 62
    }
   ],
   "source": [
    "sentences"
   ]
  },
  {
   "cell_type": "code",
   "execution_count": null,
   "metadata": {},
   "outputs": [],
   "source": []
  }
 ],
 "metadata": {
  "language_info": {
   "codemirror_mode": {
    "name": "ipython",
    "version": 3
   },
   "file_extension": ".py",
   "mimetype": "text/x-python",
   "name": "python",
   "nbconvert_exporter": "python",
   "pygments_lexer": "ipython3",
   "version": "3.7.2-final"
  },
  "orig_nbformat": 2,
  "kernelspec": {
   "name": "python3",
   "display_name": "Python 3"
  }
 },
 "nbformat": 4,
 "nbformat_minor": 2
}